{
 "cells": [
  {
   "cell_type": "markdown",
   "id": "00bcc8af",
   "metadata": {},
   "source": [
    "Hola &#x1F600;\n",
    "\n",
    "Soy **Hesus Garcia**  como \"Jesús\" pero con H. Sé que puede ser confuso al principio, pero una vez que lo recuerdes, ¡nunca lo olvidarás! &#x1F31D;\t. Como revisor de código de Triple-Ten, estoy emocionado de examinar tus proyectos y ayudarte a mejorar tus habilidades en programación. si has cometido algún error, no te preocupes, pues ¡estoy aquí para ayudarte a corregirlo y hacer que tu código brille! &#x1F31F;. Si encuentro algún detalle en tu código, te lo señalaré para que lo corrijas, ya que mi objetivo es ayudarte a prepararte para un ambiente de trabajo real, donde el líder de tu equipo actuaría de la misma manera. Si no puedes solucionar el problema, te proporcionaré más información en la próxima oportunidad. Cuando encuentres un comentario,  **por favor, no los muevas, no los modifiques ni los borres**. \n",
    "\n",
    "Revisaré cuidadosamente todas las implementaciones que has realizado para cumplir con los requisitos y te proporcionaré mis comentarios de la siguiente manera:\n",
    "\n",
    "\n",
    "<div class=\"alert alert-block alert-success\">\n",
    "<b>Comentario del revisor</b> <a class=“tocSkip”></a>\n",
    "Si todo está perfecto.\n",
    "</div>\n",
    "\n",
    "<div class=\"alert alert-block alert-warning\">\n",
    "<b>Comentario del revisor</b> <a class=“tocSkip”></a>\n",
    "Si tu código está bien pero se puede mejorar o hay algún detalle que le hace falta.\n",
    "</div>\n",
    "\n",
    "<div class=\"alert alert-block alert-danger\">\n",
    "<b>Comentario del revisor</b> <a class=“tocSkip”></a>\n",
    "Si de pronto hace falta algo o existe algún problema con tu código o conclusiones.\n",
    "</div>\n",
    "\n",
    "Puedes responderme de esta forma:\n",
    "<div class=\"alert alert-block alert-info\">\n",
    "<b>Respuesta del estudiante</b> <a class=“tocSkip”></a>\n",
    "</div>\n",
    "\n",
    "</br>\n",
    "\n",
    "**¡Empecemos!**  &#x1F680;"
   ]
  },
  {
   "cell_type": "markdown",
   "id": "3Xg_RQfnafXz",
   "metadata": {
    "id": "3Xg_RQfnafXz"
   },
   "source": [
    "# ¡Llena ese carrito!"
   ]
  },
  {
   "cell_type": "markdown",
   "id": "mhIvmmkW414q",
   "metadata": {
    "id": "mhIvmmkW414q"
   },
   "source": [
    "# Introducción\n",
    "\n",
    "Instacart es una plataforma de entregas de comestibles donde la clientela puede registrar un pedido y hacer que se lo entreguen, similar a Uber Eats y Door Dash.\n",
    "El conjunto de datos que te hemos proporcionado tiene modificaciones del original. Redujimos el tamaño del conjunto para que tus cálculos se hicieran más rápido e introdujimos valores ausentes y duplicados. Tuvimos cuidado de conservar las distribuciones de los datos originales cuando hicimos los cambios.\n",
    "\n",
    "Debes completar tres pasos. Para cada uno de ellos, escribe una breve introducción que refleje con claridad cómo pretendes resolver cada paso, y escribe párrafos explicatorios que justifiquen tus decisiones al tiempo que avanzas en tu solución.  También escribe una conclusión que resuma tus hallazgos y elecciones.\n"
   ]
  },
  {
   "cell_type": "markdown",
   "id": "3MbyzpOQZ5Or",
   "metadata": {
    "id": "3MbyzpOQZ5Or"
   },
   "source": [
    "## Diccionario de datos\n",
    "\n",
    "Hay cinco tablas en el conjunto de datos, y tendrás que usarlas todas para hacer el preprocesamiento de datos y el análisis exploratorio de datos. A continuación se muestra un diccionario de datos que enumera las columnas de cada tabla y describe los datos que contienen.\n",
    "\n",
    "- `instacart_orders.csv`: cada fila corresponde a un pedido en la aplicación Instacart.\n",
    "    - `'order_id'`: número de ID que identifica de manera única cada pedido.\n",
    "    - `'user_id'`: número de ID que identifica de manera única la cuenta de cada cliente.\n",
    "    - `'order_number'`: el número de veces que este cliente ha hecho un pedido.\n",
    "    - `'order_dow'`: día de la semana en que se hizo el pedido (0 si es domingo).\n",
    "    - `'order_hour_of_day'`: hora del día en que se hizo el pedido.\n",
    "    - `'days_since_prior_order'`: número de días transcurridos desde que este cliente hizo su pedido anterior.\n",
    "- `products.csv`: cada fila corresponde a un producto único que pueden comprar los clientes.\n",
    "    - `'product_id'`: número ID que identifica de manera única cada producto.\n",
    "    - `'product_name'`: nombre del producto.\n",
    "    - `'aisle_id'`: número ID que identifica de manera única cada categoría de pasillo de víveres.\n",
    "    - `'department_id'`: número ID que identifica de manera única cada departamento de víveres.\n",
    "- `order_products.csv`: cada fila corresponde a un artículo pedido en un pedido.\n",
    "    - `'order_id'`: número de ID que identifica de manera única cada pedido.\n",
    "    - `'product_id'`: número ID que identifica de manera única cada producto.\n",
    "    - `'add_to_cart_order'`: el orden secuencial en el que se añadió cada artículo en el carrito.\n",
    "    - `'reordered'`: 0 si el cliente nunca ha pedido este producto antes, 1 si lo ha pedido.\n",
    "- `aisles.csv`\n",
    "    - `'aisle_id'`: número ID que identifica de manera única cada categoría de pasillo de víveres.\n",
    "    - `'aisle'`: nombre del pasillo.\n",
    "- `departments.csv`\n",
    "    - `'department_id'`: número ID que identifica de manera única cada departamento de víveres.\n",
    "    - `'department'`: nombre del departamento."
   ]
  },
  {
   "cell_type": "markdown",
   "id": "n3Ha_cNSZ8lK",
   "metadata": {
    "id": "n3Ha_cNSZ8lK"
   },
   "source": [
    "# Paso 1. Descripción de los datos\n",
    "\n",
    "Lee los archivos de datos (`/datasets/instacart_orders.csv`, `/datasets/products.csv`, `/datasets/aisles.csv`, `/datasets/departments.csv` y `/datasets/order_products.csv`) con `pd.read_csv()` usando los parámetros adecuados para leer los datos correctamente. Verifica la información para cada DataFrame creado.\n"
   ]
  },
  {
   "cell_type": "markdown",
   "id": "OmlQPLlyaAfR",
   "metadata": {
    "id": "OmlQPLlyaAfR"
   },
   "source": [
    "## Plan de solución\n",
    "\n",
    "Escribe aquí tu plan de solución para el Paso 1. Descripción de los datos."
   ]
  },
  {
   "cell_type": "code",
   "execution_count": 1,
   "id": "fbf1adab",
   "metadata": {
    "id": "fbf1adab"
   },
   "outputs": [],
   "source": [
    "import pandas as pd# importar librerías\n",
    "import numpy as np\n",
    "from matplotlib import pyplot as plt\n"
   ]
  },
  {
   "cell_type": "code",
   "execution_count": 2,
   "id": "ad36396d",
   "metadata": {
    "id": "ad36396d"
   },
   "outputs": [],
   "source": [
    "# leer conjuntos de datos en los DataFrames\n",
    "#pd.read_csv(\"/datasets/instacart_orders.csv\") #Usamos esta linea para imprimir temporalmente un archivo y \n",
    "#Notar que el separador necesario es \";\"\n",
    "df_orders=pd.read_csv(\"/datasets/instacart_orders.csv\", sep=\";\")\n",
    "df_products=pd.read_csv(\"/datasets/products.csv\", sep=\";\")            \n",
    "df_aisles=pd.read_csv(\"/datasets/aisles.csv\", sep=\";\")\n",
    "df_departments=pd.read_csv(\"/datasets/departments.csv\", sep=\";\")\n",
    "df_order_products=pd.read_csv(\"/datasets/order_products.csv\", sep=\";\")"
   ]
  },
  {
   "cell_type": "markdown",
   "id": "fe428a89",
   "metadata": {},
   "source": [
    "<div class=\"alert alert-block alert-success\">\n",
    "<b>Comentario del revisor</b> <a class=“tocSkip”></a>\n",
    "Excelente trabajo al usarun separador diferente para leer los dataframes. </div>\n",
    "</div>\n"
   ]
  },
  {
   "cell_type": "code",
   "execution_count": 3,
   "id": "ad6a1efa",
   "metadata": {
    "id": "ad6a1efa"
   },
   "outputs": [
    {
     "name": "stdout",
     "output_type": "stream",
     "text": [
      "<class 'pandas.core.frame.DataFrame'>\n",
      "RangeIndex: 478967 entries, 0 to 478966\n",
      "Data columns (total 6 columns):\n",
      " #   Column                  Non-Null Count   Dtype  \n",
      "---  ------                  --------------   -----  \n",
      " 0   order_id                478967 non-null  int64  \n",
      " 1   user_id                 478967 non-null  int64  \n",
      " 2   order_number            478967 non-null  int64  \n",
      " 3   order_dow               478967 non-null  int64  \n",
      " 4   order_hour_of_day       478967 non-null  int64  \n",
      " 5   days_since_prior_order  450148 non-null  float64\n",
      "dtypes: float64(1), int64(5)\n",
      "memory usage: 21.9 MB\n"
     ]
    }
   ],
   "source": [
    "df_orders.info()# mostrar información del DataFrame"
   ]
  },
  {
   "cell_type": "markdown",
   "id": "15741f1f",
   "metadata": {},
   "source": [
    "Notamos datos faltantes en \"5:days_since_prior_order\" columna que es \"float\" a comparación de las demas que son int"
   ]
  },
  {
   "cell_type": "code",
   "execution_count": 4,
   "id": "5130e05e",
   "metadata": {
    "id": "5130e05e"
   },
   "outputs": [
    {
     "name": "stdout",
     "output_type": "stream",
     "text": [
      "<class 'pandas.core.frame.DataFrame'>\n",
      "RangeIndex: 49694 entries, 0 to 49693\n",
      "Data columns (total 4 columns):\n",
      " #   Column         Non-Null Count  Dtype \n",
      "---  ------         --------------  ----- \n",
      " 0   product_id     49694 non-null  int64 \n",
      " 1   product_name   48436 non-null  object\n",
      " 2   aisle_id       49694 non-null  int64 \n",
      " 3   department_id  49694 non-null  int64 \n",
      "dtypes: int64(3), object(1)\n",
      "memory usage: 1.5+ MB\n"
     ]
    }
   ],
   "source": [
    "# mostrar información del DataFrame\n",
    "df_products.info()"
   ]
  },
  {
   "cell_type": "markdown",
   "id": "f87c6921",
   "metadata": {},
   "source": [
    "Notamos datos faltantes en product_name, fila que es \"object\" es decir cadenas o incluso combinación de datos, aunque probablemente solo sean cadenas. las demas columnas contienen enteros (in)"
   ]
  },
  {
   "cell_type": "code",
   "execution_count": 5,
   "id": "d8370c05",
   "metadata": {
    "id": "d8370c05"
   },
   "outputs": [
    {
     "name": "stdout",
     "output_type": "stream",
     "text": [
      "<class 'pandas.core.frame.DataFrame'>\n",
      "RangeIndex: 134 entries, 0 to 133\n",
      "Data columns (total 2 columns):\n",
      " #   Column    Non-Null Count  Dtype \n",
      "---  ------    --------------  ----- \n",
      " 0   aisle_id  134 non-null    int64 \n",
      " 1   aisle     134 non-null    object\n",
      "dtypes: int64(1), object(1)\n",
      "memory usage: 2.2+ KB\n"
     ]
    }
   ],
   "source": [
    "# mostrar información del DataFrame\n",
    "df_aisles.info()"
   ]
  },
  {
   "cell_type": "markdown",
   "id": "8a9e2b57",
   "metadata": {},
   "source": [
    "una columna de enteros y una de cadenas, no hay datos nulos"
   ]
  },
  {
   "cell_type": "code",
   "execution_count": 6,
   "id": "59e2090f",
   "metadata": {
    "id": "59e2090f"
   },
   "outputs": [
    {
     "name": "stdout",
     "output_type": "stream",
     "text": [
      "<class 'pandas.core.frame.DataFrame'>\n",
      "RangeIndex: 21 entries, 0 to 20\n",
      "Data columns (total 2 columns):\n",
      " #   Column         Non-Null Count  Dtype \n",
      "---  ------         --------------  ----- \n",
      " 0   department_id  21 non-null     int64 \n",
      " 1   department     21 non-null     object\n",
      "dtypes: int64(1), object(1)\n",
      "memory usage: 464.0+ bytes\n"
     ]
    }
   ],
   "source": [
    "# mostrar información del DataFrame\n",
    "df_departments.info()"
   ]
  },
  {
   "cell_type": "markdown",
   "id": "7601dcfc",
   "metadata": {},
   "source": [
    "una columna de enteros y una de cadenas, no hay datos nulos"
   ]
  },
  {
   "cell_type": "code",
   "execution_count": 7,
   "id": "6fc81694",
   "metadata": {
    "id": "6fc81694"
   },
   "outputs": [
    {
     "name": "stdout",
     "output_type": "stream",
     "text": [
      "<class 'pandas.core.frame.DataFrame'>\n",
      "RangeIndex: 4545007 entries, 0 to 4545006\n",
      "Data columns (total 4 columns):\n",
      " #   Column             Non-Null Count    Dtype  \n",
      "---  ------             --------------    -----  \n",
      " 0   order_id           4545007 non-null  int64  \n",
      " 1   product_id         4545007 non-null  int64  \n",
      " 2   add_to_cart_order  4544171 non-null  float64\n",
      " 3   reordered          4545007 non-null  int64  \n",
      "dtypes: float64(1), int64(3)\n",
      "memory usage: 138.7 MB\n"
     ]
    }
   ],
   "source": [
    "# mostrar información del DataFrame\n",
    "df_order_products.info(show_counts=True)"
   ]
  },
  {
   "cell_type": "markdown",
   "id": "64563ede",
   "metadata": {},
   "source": [
    "<div class=\"alert alert-block alert-success\">\n",
    "    <b>Comentarios del Revisor</b> <a class=\"tocSkip\"></a><br>\n",
    "Correcto, info(), head()  son herramientas esceneciales que nos ayudaran a hacer un análisis exploratorio inicial. Opcionalmente podrías siempre incluir describe() para tener mejor idea de los valores que toman tus varibales. Continúa con el buen trabajo! </div>"
   ]
  },
  {
   "cell_type": "markdown",
   "id": "196b597a",
   "metadata": {},
   "source": [
    "hay datos nulos en la columna 2:add_to_cart_order, fila que es float, las demas son int"
   ]
  },
  {
   "cell_type": "markdown",
   "id": "t75BD19oaR5f",
   "metadata": {
    "id": "t75BD19oaR5f"
   },
   "source": [
    "## Conclusiones\n",
    "\n",
    "Escribe aquí tus conclusiones intermedias sobre el Paso 1. Descripción de los datos.\n",
    "\n",
    "Notamos que los archivos csv estan divididos por \";\".\n",
    "\n",
    "El dataframe de ordenes tiene 28819 datos nulos unicamente en una columna, probablemente sea posible recuprecuperar varios de ellos.\n",
    "\n",
    "el dataframe de productos tiene 1258 nombres de productos vacios, el nombre en si no se podra recuperar, tal vez se pueda etiquetar con base al pasillo de pertenencia.\n",
    "\n",
    "los dataframes de pasillos y departamentos se encuentran integros, esto puede servir para completar información de otros dataframes.\n",
    "\n",
    "el dataframe de ordenes de productos tiene unicamente menos de mil datos nulos, una cantidad despeciable a comparacion del tamaño del dataframe, es posible descartar estos datos sin consecuencias significativas."
   ]
  },
  {
   "cell_type": "markdown",
   "id": "3ee34763",
   "metadata": {},
   "source": [
    "<div class=\"alert alert-block alert-success\">\n",
    "<b>Comentario del revisor</b> <a class=“tocSkip”></a>\n",
    "¡Felicitaciones por incluir conclusiones intermedias en su proyecto! Esto es una práctica excelente ya que ayuda a comprender mejor los datos y a tomar decisiones informadas en la siguiente etapa del análisis. Continúa haciendo esto en futuros proyectos.</div>"
   ]
  },
  {
   "cell_type": "markdown",
   "id": "8RJHqxVmaVsF",
   "metadata": {
    "id": "8RJHqxVmaVsF"
   },
   "source": [
    "# Paso 2. Preprocesamiento de los datos\n",
    "\n",
    "Preprocesa los datos de la siguiente manera:\n",
    "\n",
    "- Verifica y corrige los tipos de datos (por ejemplo, asegúrate de que las columnas de ID sean números enteros).\n",
    "- Identifica y completa los valores ausentes.\n",
    "- Identifica y elimina los valores duplicados.\n",
    "\n",
    "Asegúrate de explicar qué tipos de valores ausentes y duplicados encontraste, cómo los completaste o eliminaste y por qué usaste esos métodos. ¿Por qué crees que estos valores ausentes y duplicados pueden haber estado presentes en el conjunto de datos?"
   ]
  },
  {
   "cell_type": "markdown",
   "id": "p6poABZQaZYb",
   "metadata": {
    "id": "p6poABZQaZYb"
   },
   "source": [
    "## Plan de solución\n",
    "\n",
    "Escribe aquí tu plan para el Paso 2. Preprocesamiento de los datos.\n",
    "\n",
    "1. imprimir una muestra aleatoria del primer dataframe\n",
    "2. revisar los tipos de datos, id enteros, cantidades como floats, etc.\n",
    "3. realizar las conversiones necesarias de a cuerdo al punto 2\n",
    "4. convertimos cadenas a minusculas y eliminamos espacios\n",
    "5. Buscamos duplicados\n",
    "6. eliminamos duplicados\n",
    "7. repetimos para los demas dataframes\n",
    "8. buscamos datos nulos, faltantes o indefinidos\n",
    "9. buscamos rellenar nulos por el contexto del dataframe\n",
    "10. eliminamos aquellos datos nulos que no se puedan averiguar de alguna forma.\n",
    "11. repetimos para el resto de los dataframes.\n"
   ]
  },
  {
   "cell_type": "markdown",
   "id": "07357848-dc64-4156-9cc3-01ff4365226d",
   "metadata": {
    "id": "07357848-dc64-4156-9cc3-01ff4365226d"
   },
   "source": [
    "## Encuentra y elimina los valores duplicados (y describe cómo tomaste tus decisiones)."
   ]
  },
  {
   "cell_type": "markdown",
   "id": "f179f0a9",
   "metadata": {
    "id": "f179f0a9"
   },
   "source": [
    "### `orders` data frame"
   ]
  },
  {
   "cell_type": "code",
   "execution_count": 8,
   "id": "b99297a5-405a-463d-8535-9adc3da4ad74",
   "metadata": {
    "id": "b99297a5-405a-463d-8535-9adc3da4ad74",
    "scrolled": false
   },
   "outputs": [
    {
     "name": "stdout",
     "output_type": "stream",
     "text": [
      "        order_id  user_id  order_number  order_dow  order_hour_of_day  \\\n",
      "145574    794638    50898            24          3                  2   \n",
      "223105   2160484   107525            16          3                  2   \n",
      "230807   1918001   188546            14          3                  2   \n",
      "266232   1782114   106752             1          3                  2   \n",
      "273805   1112182   202304            84          3                  2   \n",
      "284038   2845099    31189            11          3                  2   \n",
      "311713   1021560    53767             3          3                  2   \n",
      "321100    408114    68324             4          3                  2   \n",
      "323900   1919531   191501            32          3                  2   \n",
      "345917   2232988    82565             1          3                  2   \n",
      "371905    391768    57671            19          3                  2   \n",
      "394347    467134    63189            21          3                  2   \n",
      "411408   1286742   183220            48          3                  2   \n",
      "415163   2282673    86751            49          3                  2   \n",
      "441599   2125197    14050            48          3                  2   \n",
      "\n",
      "        days_since_prior_order  \n",
      "145574                     2.0  \n",
      "223105                    30.0  \n",
      "230807                    16.0  \n",
      "266232                     NaN  \n",
      "273805                     6.0  \n",
      "284038                     7.0  \n",
      "311713                     9.0  \n",
      "321100                    18.0  \n",
      "323900                     7.0  \n",
      "345917                     NaN  \n",
      "371905                    10.0  \n",
      "394347                     2.0  \n",
      "411408                     4.0  \n",
      "415163                     2.0  \n",
      "441599                     3.0  \n",
      "--------------------------------------\n",
      "la cantidad de pedidos duplicados es: 15\n"
     ]
    }
   ],
   "source": [
    "# Revisa si hay pedidos duplicados\n",
    "print(df_orders[df_orders[\"order_id\"].duplicated()])\n",
    "print(\"--------------------------------------\")\n",
    "print(\"la cantidad de pedidos duplicados es:\" ,df_orders[\"order_id\"].duplicated().sum())"
   ]
  },
  {
   "cell_type": "markdown",
   "id": "PEkwUX_gvt5A",
   "metadata": {
    "id": "PEkwUX_gvt5A"
   },
   "source": [
    "¿Tienes líneas duplicadas? Si sí, ¿qué tienen en común?\n",
    "\n",
    "Si hay lineas duplicadas, todas ocurren en el dia miercoles (3), miercoles, a las 2pm"
   ]
  },
  {
   "cell_type": "code",
   "execution_count": 9,
   "id": "0d44de5d",
   "metadata": {
    "id": "0d44de5d"
   },
   "outputs": [
    {
     "name": "stdout",
     "output_type": "stream",
     "text": [
      "        order_id  user_id  order_number  order_dow  order_hour_of_day  \\\n",
      "4838     2766110   162084            41          3                  2   \n",
      "5156     2190225   138285            18          3                  2   \n",
      "15506     553049    58599            13          3                  2   \n",
      "18420     382357   120200            19          3                  2   \n",
      "24691     690242    77357             2          3                  2   \n",
      "...          ...      ...           ...        ...                ...   \n",
      "457013   3384021    14881             6          3                  2   \n",
      "458816    910166   164782            18          3                  2   \n",
      "459635   1680532   106435             6          3                  2   \n",
      "468324    222962    54979            59          3                  2   \n",
      "477526   2592344    46860            38          3                  2   \n",
      "\n",
      "        days_since_prior_order  \n",
      "4838                      16.0  \n",
      "5156                      11.0  \n",
      "15506                      7.0  \n",
      "18420                     11.0  \n",
      "24691                      9.0  \n",
      "...                        ...  \n",
      "457013                    30.0  \n",
      "458816                     4.0  \n",
      "459635                    21.0  \n",
      "468324                     3.0  \n",
      "477526                     3.0  \n",
      "\n",
      "[121 rows x 6 columns]\n"
     ]
    }
   ],
   "source": [
    "# Basándote en tus hallazgos,\n",
    "# Verifica todos los pedidos que se hicieron el miércoles a las 2:00 a.m.\n",
    "print(df_orders[(df_orders[\"order_dow\"]==3) & (df_orders[\"order_hour_of_day\"]==2)])\n"
   ]
  },
  {
   "cell_type": "markdown",
   "id": "7755e3b4",
   "metadata": {},
   "source": [
    "\n",
    "<div class=\"alert alert-block alert-success\">\n",
    "<b>Comentario del revisor</b> <a class=\"tocSkip\"></a>\n",
    "Cuando usas `print()` <b>para objetos DataFrames</b> en Jupyter Notebooks, pierdes los beneficios del formato HTML integrado. `display()` o simplemente dejar el DataFrame en una celda muestra los datos con un estilo más claro y ordenado, aprovechando las capacidades HTML de Jupyter. Esto facilita la interpretación y análisis de los datos, especialmente para tablas grandes o complejas.\n",
    "</div>"
   ]
  },
  {
   "cell_type": "markdown",
   "id": "4da6d5de",
   "metadata": {},
   "source": [
    "<div class=\"alert alert-block alert-warning\">\n",
    "<b>Comentario del revisor</b> <a class=\"tocSkip\"></a><br>\n",
    "En tu Jupyter Notebook, para crear espacios entre secciones o DataFrames, te sugiero alternativas más limpias al uso repetido de print(). Puedes usar print(variable.metodo() '\\n') para añadir líneas vacías. Para espacios más grandes o personalizables, considera usar display(HTML('&lt;br&gt;')) para insertar saltos de línea o display(HTML('&lt;hr&gt;')) para líneas horizontales. Estas técnicas te ayudarán a mantener tu notebook ordenado y visualmente atractivo, aprovechando las capacidades de Python y HTML.\n",
    "</div>"
   ]
  },
  {
   "cell_type": "code",
   "execution_count": 10,
   "id": "df456418",
   "metadata": {},
   "outputs": [
    {
     "data": {
      "text/html": [
       "<hr>"
      ],
      "text/plain": [
       "<IPython.core.display.HTML object>"
      ]
     },
     "metadata": {},
     "output_type": "display_data"
    },
    {
     "name": "stdout",
     "output_type": "stream",
     "text": [
      "texto \n",
      " con enter\n"
     ]
    },
    {
     "data": {
      "text/html": [
       "<hr>"
      ],
      "text/plain": [
       "<IPython.core.display.HTML object>"
      ]
     },
     "metadata": {},
     "output_type": "display_data"
    }
   ],
   "source": [
    "#ejemplo de código agregado por el revisor\n",
    "from IPython.display import HTML\n",
    "display(HTML('<hr>'))\n",
    "print('texto \\n con enter')\n",
    "display(HTML('<hr>'))"
   ]
  },
  {
   "cell_type": "markdown",
   "id": "vu2OWyoqwOx5",
   "metadata": {
    "id": "vu2OWyoqwOx5"
   },
   "source": [
    "¿Qué sugiere este resultado?\n",
    "\n",
    "por la naturaleza de las entradas no es posible tener mas duplicados causados por mayusculas y minusculas.\n",
    "tambien teniendo 15 filas duplicadas a lo largo de 121 entradas es poco significativo el eliminarlas"
   ]
  },
  {
   "cell_type": "code",
   "execution_count": 11,
   "id": "480563c7",
   "metadata": {
    "id": "480563c7"
   },
   "outputs": [],
   "source": [
    "# Elimina los pedidos duplicados \n",
    "\n",
    "df_orders.drop_duplicates(inplace=True)"
   ]
  },
  {
   "cell_type": "code",
   "execution_count": 12,
   "id": "0b2396a2",
   "metadata": {
    "id": "0b2396a2"
   },
   "outputs": [
    {
     "name": "stdout",
     "output_type": "stream",
     "text": [
      "La cantidad actual de duplicados es: 0\n"
     ]
    }
   ],
   "source": [
    "# Vuelve a verificar si hay filas duplicadas\n",
    "print(\"La cantidad actual de duplicados es:\",df_orders.duplicated().sum())"
   ]
  },
  {
   "cell_type": "code",
   "execution_count": 13,
   "id": "f6113ef1",
   "metadata": {
    "id": "f6113ef1"
   },
   "outputs": [
    {
     "name": "stdout",
     "output_type": "stream",
     "text": [
      "La cantidad actual de <<IDs>> duplicados es: 0\n"
     ]
    }
   ],
   "source": [
    "# Vuelve a verificar únicamente si hay IDs duplicados de pedidos\n",
    "\n",
    "print(\"La cantidad actual de <<IDs>> duplicados es:\",df_orders[\"order_id\"].duplicated().sum())"
   ]
  },
  {
   "cell_type": "markdown",
   "id": "5e8905ae",
   "metadata": {
    "id": "5e8905ae"
   },
   "source": [
    "Describe brevemente tus hallazgos y lo que hiciste con ellos\n",
    "\n",
    "\n",
    "habian 15 pedidos duplicados con fecha miercoles a las 2pm.\n",
    "Se logró borrar todos los duplicados."
   ]
  },
  {
   "cell_type": "markdown",
   "id": "45e6bc46",
   "metadata": {
    "id": "45e6bc46"
   },
   "source": [
    "### `products` data frame"
   ]
  },
  {
   "cell_type": "code",
   "execution_count": 14,
   "id": "5f526b5b-8175-46fa-a0fd-441767d50e64",
   "metadata": {
    "id": "5f526b5b-8175-46fa-a0fd-441767d50e64"
   },
   "outputs": [
    {
     "name": "stdout",
     "output_type": "stream",
     "text": [
      "Existen  0  filas duplicadas\n"
     ]
    },
    {
     "data": {
      "text/html": [
       "<div>\n",
       "<style scoped>\n",
       "    .dataframe tbody tr th:only-of-type {\n",
       "        vertical-align: middle;\n",
       "    }\n",
       "\n",
       "    .dataframe tbody tr th {\n",
       "        vertical-align: top;\n",
       "    }\n",
       "\n",
       "    .dataframe thead th {\n",
       "        text-align: right;\n",
       "    }\n",
       "</style>\n",
       "<table border=\"1\" class=\"dataframe\">\n",
       "  <thead>\n",
       "    <tr style=\"text-align: right;\">\n",
       "      <th></th>\n",
       "      <th>product_id</th>\n",
       "      <th>product_name</th>\n",
       "      <th>aisle_id</th>\n",
       "      <th>department_id</th>\n",
       "    </tr>\n",
       "  </thead>\n",
       "  <tbody>\n",
       "  </tbody>\n",
       "</table>\n",
       "</div>"
      ],
      "text/plain": [
       "Empty DataFrame\n",
       "Columns: [product_id, product_name, aisle_id, department_id]\n",
       "Index: []"
      ]
     },
     "execution_count": 14,
     "metadata": {},
     "output_type": "execute_result"
    }
   ],
   "source": [
    "# Verifica si hay filas totalmente duplicadas\n",
    "df_products[\"product_name\"]=df_products[\"product_name\"].str.upper()\n",
    "print(\"Existen \",df_products.duplicated().sum(), \" filas duplicadas\")\n",
    "\n",
    "\n",
    "df_products[df_products.duplicated()]\n",
    "\n"
   ]
  },
  {
   "cell_type": "code",
   "execution_count": 15,
   "id": "88daa4f4",
   "metadata": {
    "id": "88daa4f4"
   },
   "outputs": [
    {
     "name": "stdout",
     "output_type": "stream",
     "text": [
      "Existen  49673  ids de departamentos duplicados\n"
     ]
    },
    {
     "data": {
      "text/html": [
       "<div>\n",
       "<style scoped>\n",
       "    .dataframe tbody tr th:only-of-type {\n",
       "        vertical-align: middle;\n",
       "    }\n",
       "\n",
       "    .dataframe tbody tr th {\n",
       "        vertical-align: top;\n",
       "    }\n",
       "\n",
       "    .dataframe thead th {\n",
       "        text-align: right;\n",
       "    }\n",
       "</style>\n",
       "<table border=\"1\" class=\"dataframe\">\n",
       "  <thead>\n",
       "    <tr style=\"text-align: right;\">\n",
       "      <th></th>\n",
       "      <th>product_id</th>\n",
       "      <th>product_name</th>\n",
       "      <th>aisle_id</th>\n",
       "      <th>department_id</th>\n",
       "    </tr>\n",
       "  </thead>\n",
       "  <tbody>\n",
       "    <tr>\n",
       "      <th>4</th>\n",
       "      <td>5</td>\n",
       "      <td>GREEN CHILE ANYTIME SAUCE</td>\n",
       "      <td>5</td>\n",
       "      <td>13</td>\n",
       "    </tr>\n",
       "    <tr>\n",
       "      <th>6</th>\n",
       "      <td>7</td>\n",
       "      <td>PURE COCONUT WATER WITH ORANGE</td>\n",
       "      <td>98</td>\n",
       "      <td>7</td>\n",
       "    </tr>\n",
       "    <tr>\n",
       "      <th>7</th>\n",
       "      <td>8</td>\n",
       "      <td>CUT RUSSET POTATOES STEAM N' MASH</td>\n",
       "      <td>116</td>\n",
       "      <td>1</td>\n",
       "    </tr>\n",
       "    <tr>\n",
       "      <th>9</th>\n",
       "      <td>10</td>\n",
       "      <td>SPARKLING ORANGE JUICE &amp; PRICKLY PEAR BEVERAGE</td>\n",
       "      <td>115</td>\n",
       "      <td>7</td>\n",
       "    </tr>\n",
       "    <tr>\n",
       "      <th>10</th>\n",
       "      <td>11</td>\n",
       "      <td>PEACH MANGO JUICE</td>\n",
       "      <td>31</td>\n",
       "      <td>7</td>\n",
       "    </tr>\n",
       "    <tr>\n",
       "      <th>...</th>\n",
       "      <td>...</td>\n",
       "      <td>...</td>\n",
       "      <td>...</td>\n",
       "      <td>...</td>\n",
       "    </tr>\n",
       "    <tr>\n",
       "      <th>49689</th>\n",
       "      <td>49690</td>\n",
       "      <td>HIGH PERFORMANCE ENERGY DRINK</td>\n",
       "      <td>64</td>\n",
       "      <td>7</td>\n",
       "    </tr>\n",
       "    <tr>\n",
       "      <th>49690</th>\n",
       "      <td>49691</td>\n",
       "      <td>ORIGINAL PANCAKE &amp; WAFFLE MIX</td>\n",
       "      <td>130</td>\n",
       "      <td>14</td>\n",
       "    </tr>\n",
       "    <tr>\n",
       "      <th>49691</th>\n",
       "      <td>49692</td>\n",
       "      <td>ORGANIC INSTANT OATMEAL LIGHT MAPLE BROWN SUGAR</td>\n",
       "      <td>130</td>\n",
       "      <td>14</td>\n",
       "    </tr>\n",
       "    <tr>\n",
       "      <th>49692</th>\n",
       "      <td>49693</td>\n",
       "      <td>SPRING WATER BODY WASH</td>\n",
       "      <td>127</td>\n",
       "      <td>11</td>\n",
       "    </tr>\n",
       "    <tr>\n",
       "      <th>49693</th>\n",
       "      <td>49694</td>\n",
       "      <td>BURRITO- STEAK &amp; CHEESE</td>\n",
       "      <td>38</td>\n",
       "      <td>1</td>\n",
       "    </tr>\n",
       "  </tbody>\n",
       "</table>\n",
       "<p>49673 rows × 4 columns</p>\n",
       "</div>"
      ],
      "text/plain": [
       "       product_id                                     product_name  aisle_id  \\\n",
       "4               5                        GREEN CHILE ANYTIME SAUCE         5   \n",
       "6               7                   PURE COCONUT WATER WITH ORANGE        98   \n",
       "7               8                CUT RUSSET POTATOES STEAM N' MASH       116   \n",
       "9              10   SPARKLING ORANGE JUICE & PRICKLY PEAR BEVERAGE       115   \n",
       "10             11                                PEACH MANGO JUICE        31   \n",
       "...           ...                                              ...       ...   \n",
       "49689       49690                    HIGH PERFORMANCE ENERGY DRINK        64   \n",
       "49690       49691                    ORIGINAL PANCAKE & WAFFLE MIX       130   \n",
       "49691       49692  ORGANIC INSTANT OATMEAL LIGHT MAPLE BROWN SUGAR       130   \n",
       "49692       49693                           SPRING WATER BODY WASH       127   \n",
       "49693       49694                          BURRITO- STEAK & CHEESE        38   \n",
       "\n",
       "       department_id  \n",
       "4                 13  \n",
       "6                  7  \n",
       "7                  1  \n",
       "9                  7  \n",
       "10                 7  \n",
       "...              ...  \n",
       "49689              7  \n",
       "49690             14  \n",
       "49691             14  \n",
       "49692             11  \n",
       "49693              1  \n",
       "\n",
       "[49673 rows x 4 columns]"
      ]
     },
     "execution_count": 15,
     "metadata": {},
     "output_type": "execute_result"
    }
   ],
   "source": [
    "# Revisa únicamente si hay ID de departamentos duplicados\n",
    "print(\"Existen \",df_products[\"department_id\"].duplicated().sum(), \" ids de departamentos duplicados\")\n",
    "\n",
    "\n",
    "df_products[df_products[\"department_id\"].duplicated()]\n"
   ]
  },
  {
   "cell_type": "code",
   "execution_count": 16,
   "id": "c773f0bf",
   "metadata": {
    "id": "c773f0bf"
   },
   "outputs": [
    {
     "name": "stdout",
     "output_type": "stream",
     "text": [
      "NaN                                          1258\n",
      "GREEN TEA WITH GINSENG AND HONEY                3\n",
      "MACARONI AND CHEESE                             2\n",
      "SKINLESS & BONELESS SARDINES IN OLIVE OIL       2\n",
      "WILD SARDINES IN SPRING WATER                   2\n",
      "                                             ... \n",
      "DELUXE RED RASPBERRY FRUIT SPREAD               1\n",
      "ORGANIC PEACHY GREEN TEA                        1\n",
      "ORGANIC CINNAMON CRUNCH CEREAL                  1\n",
      "TOMATOES- CRUSHED- ORGANIC                      1\n",
      "FAT FREE MOZZARELLA                             1\n",
      "Name: product_name, Length: 48333, dtype: int64\n",
      "---------------------------------------------\n",
      "Existen  1361  nombres de productos duplicados\n"
     ]
    },
    {
     "data": {
      "text/html": [
       "<div>\n",
       "<style scoped>\n",
       "    .dataframe tbody tr th:only-of-type {\n",
       "        vertical-align: middle;\n",
       "    }\n",
       "\n",
       "    .dataframe tbody tr th {\n",
       "        vertical-align: top;\n",
       "    }\n",
       "\n",
       "    .dataframe thead th {\n",
       "        text-align: right;\n",
       "    }\n",
       "</style>\n",
       "<table border=\"1\" class=\"dataframe\">\n",
       "  <thead>\n",
       "    <tr style=\"text-align: right;\">\n",
       "      <th></th>\n",
       "      <th>product_id</th>\n",
       "      <th>product_name</th>\n",
       "      <th>aisle_id</th>\n",
       "      <th>department_id</th>\n",
       "    </tr>\n",
       "  </thead>\n",
       "  <tbody>\n",
       "    <tr>\n",
       "      <th>71</th>\n",
       "      <td>72</td>\n",
       "      <td>NaN</td>\n",
       "      <td>100</td>\n",
       "      <td>21</td>\n",
       "    </tr>\n",
       "    <tr>\n",
       "      <th>109</th>\n",
       "      <td>110</td>\n",
       "      <td>NaN</td>\n",
       "      <td>100</td>\n",
       "      <td>21</td>\n",
       "    </tr>\n",
       "    <tr>\n",
       "      <th>296</th>\n",
       "      <td>297</td>\n",
       "      <td>NaN</td>\n",
       "      <td>100</td>\n",
       "      <td>21</td>\n",
       "    </tr>\n",
       "    <tr>\n",
       "      <th>416</th>\n",
       "      <td>417</td>\n",
       "      <td>NaN</td>\n",
       "      <td>100</td>\n",
       "      <td>21</td>\n",
       "    </tr>\n",
       "    <tr>\n",
       "      <th>436</th>\n",
       "      <td>437</td>\n",
       "      <td>NaN</td>\n",
       "      <td>100</td>\n",
       "      <td>21</td>\n",
       "    </tr>\n",
       "    <tr>\n",
       "      <th>...</th>\n",
       "      <td>...</td>\n",
       "      <td>...</td>\n",
       "      <td>...</td>\n",
       "      <td>...</td>\n",
       "    </tr>\n",
       "    <tr>\n",
       "      <th>49689</th>\n",
       "      <td>49690</td>\n",
       "      <td>HIGH PERFORMANCE ENERGY DRINK</td>\n",
       "      <td>64</td>\n",
       "      <td>7</td>\n",
       "    </tr>\n",
       "    <tr>\n",
       "      <th>49690</th>\n",
       "      <td>49691</td>\n",
       "      <td>ORIGINAL PANCAKE &amp; WAFFLE MIX</td>\n",
       "      <td>130</td>\n",
       "      <td>14</td>\n",
       "    </tr>\n",
       "    <tr>\n",
       "      <th>49691</th>\n",
       "      <td>49692</td>\n",
       "      <td>ORGANIC INSTANT OATMEAL LIGHT MAPLE BROWN SUGAR</td>\n",
       "      <td>130</td>\n",
       "      <td>14</td>\n",
       "    </tr>\n",
       "    <tr>\n",
       "      <th>49692</th>\n",
       "      <td>49693</td>\n",
       "      <td>SPRING WATER BODY WASH</td>\n",
       "      <td>127</td>\n",
       "      <td>11</td>\n",
       "    </tr>\n",
       "    <tr>\n",
       "      <th>49693</th>\n",
       "      <td>49694</td>\n",
       "      <td>BURRITO- STEAK &amp; CHEESE</td>\n",
       "      <td>38</td>\n",
       "      <td>1</td>\n",
       "    </tr>\n",
       "  </tbody>\n",
       "</table>\n",
       "<p>1361 rows × 4 columns</p>\n",
       "</div>"
      ],
      "text/plain": [
       "       product_id                                     product_name  aisle_id  \\\n",
       "71             72                                              NaN       100   \n",
       "109           110                                              NaN       100   \n",
       "296           297                                              NaN       100   \n",
       "416           417                                              NaN       100   \n",
       "436           437                                              NaN       100   \n",
       "...           ...                                              ...       ...   \n",
       "49689       49690                    HIGH PERFORMANCE ENERGY DRINK        64   \n",
       "49690       49691                    ORIGINAL PANCAKE & WAFFLE MIX       130   \n",
       "49691       49692  ORGANIC INSTANT OATMEAL LIGHT MAPLE BROWN SUGAR       130   \n",
       "49692       49693                           SPRING WATER BODY WASH       127   \n",
       "49693       49694                          BURRITO- STEAK & CHEESE        38   \n",
       "\n",
       "       department_id  \n",
       "71                21  \n",
       "109               21  \n",
       "296               21  \n",
       "416               21  \n",
       "436               21  \n",
       "...              ...  \n",
       "49689              7  \n",
       "49690             14  \n",
       "49691             14  \n",
       "49692             11  \n",
       "49693              1  \n",
       "\n",
       "[1361 rows x 4 columns]"
      ]
     },
     "execution_count": 16,
     "metadata": {},
     "output_type": "execute_result"
    }
   ],
   "source": [
    "# Revisa únicamente si hay nombres duplicados de productos (convierte los nombres a letras mayúsculas para compararlos mejor)\n",
    "\n",
    "product_duplicated=df_products[\"product_name\"].str.upper().duplicated()\n",
    "\n",
    "print(df_products[\"product_name\"].str.upper().value_counts(dropna=False))\n",
    "print(\"---------------------------------------------\")\n",
    "print(\"Existen \",product_duplicated.sum(), \" nombres de productos duplicados\")\n",
    "\n",
    "\n",
    "df_products[product_duplicated]"
   ]
  },
  {
   "cell_type": "code",
   "execution_count": 17,
   "id": "01efd02e",
   "metadata": {
    "id": "01efd02e"
   },
   "outputs": [
    {
     "name": "stdout",
     "output_type": "stream",
     "text": [
      "Existen  0  nombres de productos duplicados\n",
      "department_id  aisle_id\n",
      "21             100         1258\n",
      "dtype: int64\n"
     ]
    }
   ],
   "source": [
    "# Revisa si hay nombres duplicados de productos no faltantes\n",
    "\n",
    "product_duplicated_drop=df_products[~df_products[\"product_name\"].isna()]\n",
    "\n",
    "#print(product_duplicated_drop) print para asegurar el filtrado correcto\n",
    "print(\"Existen \",product_duplicated_drop.duplicated().sum(), \" nombres de productos duplicados\")\n",
    "\n",
    "print(df_products[(df_products[\"aisle_id\"]==100) & \n",
    "                  (df_products[\"department_id\"]==21)][{\"aisle_id\",\"department_id\"}].value_counts()\n",
    "     )"
   ]
  },
  {
   "cell_type": "markdown",
   "id": "9da8d293",
   "metadata": {
    "id": "9da8d293"
   },
   "source": [
    "Describe brevemente tus hallazgos y lo que hiciste con ellos.\n",
    "\n",
    "- Inicie poniendo todos los nombres en mayusculas, para tener uniformidad.\n",
    "\n",
    "- Noté que se repiten los departamentos, esto es por que diferentes productos comparten departamento y pasillo.\n",
    "- Por otro lado se ve que el dataframe poseia duplicados en los nombres de producto, una inspección mas cercana revelo que todos los duplicados eran nombres nulos con el mismo pasillo (100) y departamento (21), implicando que es un registro nulo y no uno duplicado, por lo que se tratará mas adelante."
   ]
  },
  {
   "cell_type": "markdown",
   "id": "60f30db1",
   "metadata": {
    "id": "60f30db1"
   },
   "source": [
    "### `departments` data frame"
   ]
  },
  {
   "cell_type": "code",
   "execution_count": 18,
   "id": "fb410ad4-0fbf-4b80-bb09-23fdea79afe3",
   "metadata": {
    "id": "fb410ad4-0fbf-4b80-bb09-23fdea79afe3"
   },
   "outputs": [
    {
     "name": "stdout",
     "output_type": "stream",
     "text": [
      "Existen  0  filas duplicadas\n"
     ]
    }
   ],
   "source": [
    "# Revisa si hay filas totalmente duplicadas\n",
    "df_departments[\"department\"]=df_departments[\"department\"].str.lower()\n",
    "\n",
    "print(\"Existen \",df_departments.duplicated().sum(), \" filas duplicadas\")\n",
    "\n",
    "\n",
    "#df_departments[df_departments.duplicated()] #Como no hay filas duplicadas, no hay necesidad de mostrar el DF"
   ]
  },
  {
   "cell_type": "code",
   "execution_count": 19,
   "id": "332b12bb",
   "metadata": {
    "id": "332b12bb"
   },
   "outputs": [
    {
     "name": "stdout",
     "output_type": "stream",
     "text": [
      "Existen  0  ids de departamento duplicados\n",
      "Existen  0 nombres de departamento duplicados\n"
     ]
    }
   ],
   "source": [
    "# Revisa únicamente si hay IDs duplicadas de productos #Supongo aqui se refiere a ids de departamentos, el DF no contiene productos\n",
    "print(\"Existen \",df_departments[\"department_id\"].duplicated().sum(), \" ids de departamento duplicados\")\n",
    "print(\"Existen \",df_departments[\"department\"].str.lower().duplicated().sum(), \"nombres de departamento duplicados\")"
   ]
  },
  {
   "cell_type": "markdown",
   "id": "bd30d78e",
   "metadata": {
    "id": "bd30d78e"
   },
   "source": [
    "Describe brevemente tus hallazgos y lo que hiciste con ellos.\n",
    "\n",
    "- El Dataframe ya viene en buena calidad, sin datos nulos ni duplicados, unicamente se aseguro la uniformidad de los nombres de departamentos al imponer minusculas."
   ]
  },
  {
   "cell_type": "markdown",
   "id": "889349c1",
   "metadata": {
    "id": "889349c1"
   },
   "source": [
    "### `aisles` data frame"
   ]
  },
  {
   "cell_type": "code",
   "execution_count": 20,
   "id": "9da89fb9-4679-40f5-ad0d-c34df753a3f8",
   "metadata": {
    "id": "9da89fb9-4679-40f5-ad0d-c34df753a3f8"
   },
   "outputs": [
    {
     "name": "stdout",
     "output_type": "stream",
     "text": [
      "Existen  0  filas duplicadas\n"
     ]
    }
   ],
   "source": [
    "# Revisa si hay filas totalmente duplicadas\n",
    "df_aisles[\"aisle\"]=df_aisles[\"aisle\"].str.lower()\n",
    "\n",
    "print(\"Existen \",df_aisles.duplicated().sum(), \" filas duplicadas\")\n",
    "\n",
    "\n",
    "#df_aisles[df_aisles.duplicated()]"
   ]
  },
  {
   "cell_type": "code",
   "execution_count": 21,
   "id": "da7c2822",
   "metadata": {
    "id": "da7c2822"
   },
   "outputs": [
    {
     "name": "stdout",
     "output_type": "stream",
     "text": [
      "Existen  0  ids de pasillos duplicados\n",
      "Existen  0 nombres de pasillos duplicados\n"
     ]
    }
   ],
   "source": [
    "# Revisa únicamente si hay IDs duplicadas de productos\n",
    "print(\"Existen \",df_aisles[\"aisle_id\"].duplicated().sum(), \" ids de pasillos duplicados\")\n",
    "print(\"Existen \",df_aisles[\"aisle\"].str.lower().duplicated().sum(), \"nombres de pasillos duplicados\")"
   ]
  },
  {
   "cell_type": "markdown",
   "id": "ac63826f",
   "metadata": {
    "id": "ac63826f"
   },
   "source": [
    "Describe brevemente tus hallazgos y lo que hiciste con ellos.\n",
    "\n",
    "- El dataframe esta en buen estado, sin filas, nombres ó IDs repetidos.  unicamente se aseguro la uniformidad de los nombres de pasillos al imponer minusculas."
   ]
  },
  {
   "cell_type": "markdown",
   "id": "274cd06a",
   "metadata": {
    "id": "274cd06a"
   },
   "source": [
    "### `order_products` data frame"
   ]
  },
  {
   "cell_type": "code",
   "execution_count": 22,
   "id": "52326689-84a8-4b8f-a881-7c68780f62c9",
   "metadata": {
    "id": "52326689-84a8-4b8f-a881-7c68780f62c9"
   },
   "outputs": [
    {
     "name": "stdout",
     "output_type": "stream",
     "text": [
      "Existen  0  filas duplicadas\n"
     ]
    },
    {
     "data": {
      "text/html": [
       "<div>\n",
       "<style scoped>\n",
       "    .dataframe tbody tr th:only-of-type {\n",
       "        vertical-align: middle;\n",
       "    }\n",
       "\n",
       "    .dataframe tbody tr th {\n",
       "        vertical-align: top;\n",
       "    }\n",
       "\n",
       "    .dataframe thead th {\n",
       "        text-align: right;\n",
       "    }\n",
       "</style>\n",
       "<table border=\"1\" class=\"dataframe\">\n",
       "  <thead>\n",
       "    <tr style=\"text-align: right;\">\n",
       "      <th></th>\n",
       "      <th>order_id</th>\n",
       "      <th>product_id</th>\n",
       "      <th>add_to_cart_order</th>\n",
       "      <th>reordered</th>\n",
       "    </tr>\n",
       "  </thead>\n",
       "  <tbody>\n",
       "    <tr>\n",
       "      <th>0</th>\n",
       "      <td>2141543</td>\n",
       "      <td>11440</td>\n",
       "      <td>17.0</td>\n",
       "      <td>0</td>\n",
       "    </tr>\n",
       "    <tr>\n",
       "      <th>1</th>\n",
       "      <td>567889</td>\n",
       "      <td>1560</td>\n",
       "      <td>1.0</td>\n",
       "      <td>1</td>\n",
       "    </tr>\n",
       "    <tr>\n",
       "      <th>2</th>\n",
       "      <td>2261212</td>\n",
       "      <td>26683</td>\n",
       "      <td>1.0</td>\n",
       "      <td>1</td>\n",
       "    </tr>\n",
       "    <tr>\n",
       "      <th>3</th>\n",
       "      <td>491251</td>\n",
       "      <td>8670</td>\n",
       "      <td>35.0</td>\n",
       "      <td>1</td>\n",
       "    </tr>\n",
       "    <tr>\n",
       "      <th>4</th>\n",
       "      <td>2571142</td>\n",
       "      <td>1940</td>\n",
       "      <td>5.0</td>\n",
       "      <td>1</td>\n",
       "    </tr>\n",
       "    <tr>\n",
       "      <th>...</th>\n",
       "      <td>...</td>\n",
       "      <td>...</td>\n",
       "      <td>...</td>\n",
       "      <td>...</td>\n",
       "    </tr>\n",
       "    <tr>\n",
       "      <th>4545002</th>\n",
       "      <td>577211</td>\n",
       "      <td>15290</td>\n",
       "      <td>12.0</td>\n",
       "      <td>1</td>\n",
       "    </tr>\n",
       "    <tr>\n",
       "      <th>4545003</th>\n",
       "      <td>1219554</td>\n",
       "      <td>21914</td>\n",
       "      <td>9.0</td>\n",
       "      <td>0</td>\n",
       "    </tr>\n",
       "    <tr>\n",
       "      <th>4545004</th>\n",
       "      <td>692640</td>\n",
       "      <td>47766</td>\n",
       "      <td>4.0</td>\n",
       "      <td>1</td>\n",
       "    </tr>\n",
       "    <tr>\n",
       "      <th>4545005</th>\n",
       "      <td>319435</td>\n",
       "      <td>691</td>\n",
       "      <td>8.0</td>\n",
       "      <td>1</td>\n",
       "    </tr>\n",
       "    <tr>\n",
       "      <th>4545006</th>\n",
       "      <td>1398151</td>\n",
       "      <td>28733</td>\n",
       "      <td>9.0</td>\n",
       "      <td>0</td>\n",
       "    </tr>\n",
       "  </tbody>\n",
       "</table>\n",
       "<p>4545007 rows × 4 columns</p>\n",
       "</div>"
      ],
      "text/plain": [
       "         order_id  product_id  add_to_cart_order  reordered\n",
       "0         2141543       11440               17.0          0\n",
       "1          567889        1560                1.0          1\n",
       "2         2261212       26683                1.0          1\n",
       "3          491251        8670               35.0          1\n",
       "4         2571142        1940                5.0          1\n",
       "...           ...         ...                ...        ...\n",
       "4545002    577211       15290               12.0          1\n",
       "4545003   1219554       21914                9.0          0\n",
       "4545004    692640       47766                4.0          1\n",
       "4545005    319435         691                8.0          1\n",
       "4545006   1398151       28733                9.0          0\n",
       "\n",
       "[4545007 rows x 4 columns]"
      ]
     },
     "execution_count": 22,
     "metadata": {},
     "output_type": "execute_result"
    }
   ],
   "source": [
    "# Revisa si hay filas totalmente duplicadas\n",
    "\n",
    "print(\"Existen \",df_order_products.duplicated().sum(), \" filas duplicadas\")\n",
    "\n",
    "\n",
    "#df_order_products[df_order_products.duplicated()]\n",
    "df_order_products"
   ]
  },
  {
   "cell_type": "code",
   "execution_count": 23,
   "id": "7b861391",
   "metadata": {
    "id": "7b861391",
    "scrolled": true
   },
   "outputs": [
    {
     "name": "stdout",
     "output_type": "stream",
     "text": [
      "Existen  4094961  ids de orden duplicadas\n",
      "Existen  4499434  ids de producto duplicados\n"
     ]
    },
    {
     "data": {
      "text/plain": [
       "order_id  product_id\n",
       "9310      25753         1\n",
       "1959075   7485          1\n",
       "          45842         1\n",
       "          47740         1\n",
       "1961723   3849          1\n",
       "                       ..\n",
       "936852    11193         1\n",
       "          14833         1\n",
       "          15438         1\n",
       "          18362         1\n",
       "3383594   49144         1\n",
       "Length: 836, dtype: int64"
      ]
     },
     "execution_count": 23,
     "metadata": {},
     "output_type": "execute_result"
    }
   ],
   "source": [
    "# Vuelve a verificar si hay cualquier otro duplicado engañoso\n",
    "print(\"Existen \",df_order_products[\"order_id\"].duplicated().sum(), \" ids de orden duplicadas\")\n",
    "print(\"Existen \",df_order_products[\"product_id\"].duplicated().sum(), \" ids de producto duplicados\")\n",
    "\n",
    "\n",
    "df_order_products[df_order_products[\"add_to_cart_order\"].isna()][{\"order_id\",\"product_id\"}].value_counts()\n",
    "\n",
    "\n"
   ]
  },
  {
   "cell_type": "markdown",
   "id": "0b890492",
   "metadata": {
    "id": "0b890492"
   },
   "source": [
    "Describe brevemente tus hallazgos y lo que hiciste con ellos.\n",
    "\n",
    "- Por la naturaleza del dataframe, es normal que las entradas: id de producto, de orden, el orden con el que los productos se agregan y el conteo de \"se ha vuelto a ordenar\" se repitan, ya que no hay filas que se repitan del todo no se elimino ninguna entrada.\n",
    "- Tambien se notó que los datos nulos en \"add_to_cart_order\" no repiten datos en las demas entradas, por lo que se deben tratar como datos nulos y no como entradas repetidas."
   ]
  },
  {
   "cell_type": "markdown",
   "id": "1e46de76",
   "metadata": {
    "id": "1e46de76"
   },
   "source": [
    "## Encuentra y elimina los valores ausentes\n",
    "\n",
    "Al trabajar con valores duplicados, pudimos observar que también nos falta investigar valores ausentes:\n",
    "\n",
    "* La columna `'product_name'` de la tabla products.\n",
    "* La columna `'days_since_prior_order'` de la tabla orders.\n",
    "* La columna `'add_to_cart_order'` de la tabla order_productos."
   ]
  },
  {
   "cell_type": "markdown",
   "id": "c0aebd78",
   "metadata": {
    "id": "c0aebd78"
   },
   "source": [
    "### `products` data frame"
   ]
  },
  {
   "cell_type": "code",
   "execution_count": 24,
   "id": "fe4a8b0f",
   "metadata": {
    "id": "fe4a8b0f"
   },
   "outputs": [
    {
     "name": "stdout",
     "output_type": "stream",
     "text": [
      "       product_id product_name  aisle_id  department_id\n",
      "37             38          NaN       100             21\n",
      "71             72          NaN       100             21\n",
      "109           110          NaN       100             21\n",
      "296           297          NaN       100             21\n",
      "416           417          NaN       100             21\n",
      "...           ...          ...       ...            ...\n",
      "49552       49553          NaN       100             21\n",
      "49574       49575          NaN       100             21\n",
      "49640       49641          NaN       100             21\n",
      "49663       49664          NaN       100             21\n",
      "49668       49669          NaN       100             21\n",
      "\n",
      "[1258 rows x 4 columns]\n"
     ]
    }
   ],
   "source": [
    "# Encuentra los valores ausentes en la columna 'product_name'\n",
    "print(df_products[df_products[\"product_name\"].isna()])\n"
   ]
  },
  {
   "cell_type": "markdown",
   "id": "-A6x1AbJhjkp",
   "metadata": {
    "id": "-A6x1AbJhjkp"
   },
   "source": [
    "Describe brevemente cuáles son tus hallazgos.\n",
    "\n",
    "Los valores nulos parecen tener ids de producto diferentes, pero todos referidos al mismo pasillo y departamento."
   ]
  },
  {
   "cell_type": "code",
   "execution_count": 25,
   "id": "e96167bc",
   "metadata": {
    "id": "e96167bc"
   },
   "outputs": [
    {
     "name": "stdout",
     "output_type": "stream",
     "text": [
      "department_id  aisle_id\n",
      "21             100         1258\n",
      "dtype: int64\n"
     ]
    }
   ],
   "source": [
    "#  ¿Todos los nombres de productos ausentes están relacionados con el pasillo con ID 100?\n",
    "\n",
    "print(df_products[(df_products[\"aisle_id\"]==100) ][{\"aisle_id\",\"department_id\"}].value_counts()\n",
    "     )"
   ]
  },
  {
   "cell_type": "markdown",
   "id": "WRpIfXRphpSL",
   "metadata": {
    "id": "WRpIfXRphpSL"
   },
   "source": [
    "Describe brevemente cuáles son tus hallazgos.\n",
    "\n",
    "\n",
    "- si, como se comento al encontrar el dato duplicado los 1258 datos con pasillo 100 y departamento 21 son NAN"
   ]
  },
  {
   "cell_type": "code",
   "execution_count": 26,
   "id": "8fd0a541",
   "metadata": {
    "id": "8fd0a541"
   },
   "outputs": [
    {
     "name": "stdout",
     "output_type": "stream",
     "text": [
      "department_id  aisle_id\n",
      "21             100         1258\n",
      "dtype: int64\n"
     ]
    }
   ],
   "source": [
    "# ¿Todos los nombres de productos ausentes están relacionados con el departamento con ID 21?\n",
    "\n",
    "print(df_products[(df_products[\"department_id\"]==21)][{\"aisle_id\",\"department_id\"}].value_counts()\n",
    "     )"
   ]
  },
  {
   "cell_type": "markdown",
   "id": "qDpdYn1Fht_I",
   "metadata": {
    "id": "qDpdYn1Fht_I"
   },
   "source": [
    "Describe brevemente cuáles son tus hallazgos.\n",
    "\n",
    "\n",
    "- La combinación de pasillo 100 y departamento 21 parece ser un default para productos desconocidos."
   ]
  },
  {
   "cell_type": "code",
   "execution_count": 27,
   "id": "325c3464",
   "metadata": {
    "id": "325c3464"
   },
   "outputs": [
    {
     "name": "stdout",
     "output_type": "stream",
     "text": [
      "       department_id  aisle_id\n",
      "37                21       100\n",
      "71                21       100\n",
      "109               21       100\n",
      "296               21       100\n",
      "416               21       100\n",
      "...              ...       ...\n",
      "49552             21       100\n",
      "49574             21       100\n",
      "49640             21       100\n",
      "49663             21       100\n",
      "49668             21       100\n",
      "\n",
      "[1258 rows x 2 columns]\n",
      "------------------------------------------------\n",
      "department_id  aisle_id  product_id\n",
      "21             100       38            1\n",
      "                         33668         1\n",
      "                         33935         1\n",
      "                         33904         1\n",
      "                         33896         1\n",
      "                                      ..\n",
      "                         16336         1\n",
      "                         16330         1\n",
      "                         16286         1\n",
      "                         16273         1\n",
      "                         49669         1\n",
      "Length: 1258, dtype: int64\n"
     ]
    }
   ],
   "source": [
    "# Usa las tablas department y aisle para revisar los datos del pasillo con ID 100 y el departamento con ID 21.\n",
    "print(df_products[(df_products[\"aisle_id\"]==100) & \n",
    "                  (df_products[\"department_id\"]==21)][{\"aisle_id\",\"department_id\"}]\n",
    "     )\n",
    "print(\"------------------------------------------------\")\n",
    "print(df_products[(df_products[\"aisle_id\"]==100) & \n",
    "                  (df_products[\"department_id\"]==21)][{\"product_id\",\"aisle_id\",\"department_id\"}].value_counts()\n",
    "     )"
   ]
  },
  {
   "cell_type": "markdown",
   "id": "nqhSTUPhhvEJ",
   "metadata": {
    "id": "nqhSTUPhhvEJ"
   },
   "source": [
    "Describe brevemente cuáles son tus hallazgos.\n",
    "\n",
    "\n",
    "- Todos los nombres nulos poseen un id de producto diferente, pero todos refieren al mismo departamento y pasillo.\n",
    "- Pareciera que al no asignaro correctamente un nombre, se tomaran valores de departamento y pasillo por defecto."
   ]
  },
  {
   "cell_type": "code",
   "execution_count": 28,
   "id": "6b295120",
   "metadata": {
    "id": "6b295120"
   },
   "outputs": [
    {
     "name": "stdout",
     "output_type": "stream",
     "text": [
      "department_id  aisle_id  product_name\n",
      "21             100       unknown         1258\n",
      "dtype: int64\n"
     ]
    }
   ],
   "source": [
    "# Completa los nombres de productos ausentes con 'Unknown'\n",
    "\n",
    "df_products[\"product_name\"]=df_products[\"product_name\"].replace(np.nan, \"unknown\")\n",
    "print(df_products[(df_products[\"aisle_id\"]==100) & \n",
    "                  (df_products[\"department_id\"]==21)][{\"department_id\",\"aisle_id\",\"product_name\"}].value_counts()\n",
    "     )"
   ]
  },
  {
   "cell_type": "code",
   "execution_count": 29,
   "id": "d5689c5f",
   "metadata": {},
   "outputs": [
    {
     "name": "stdout",
     "output_type": "stream",
     "text": [
      "    aisle_id    aisle\n",
      "99       100  missing\n",
      "    department_id department\n",
      "20             21    missing\n"
     ]
    }
   ],
   "source": [
    "#Revisaremos con mas detenimiento el pasillo y departamento.\n",
    "print(df_aisles[df_aisles[\"aisle_id\"]==100])\n",
    "print(df_departments[df_departments[\"department_id\"]==21])"
   ]
  },
  {
   "cell_type": "markdown",
   "id": "fc70e5ad",
   "metadata": {
    "id": "fc70e5ad"
   },
   "source": [
    "Describe brevemente tus hallazgos y lo que hiciste con ellos.\n",
    "\n",
    "\n",
    "- Encontramos los datos nulos en la columna de nombre de producto, notamos que todos estos valores nulos tenian el mismo departamento y el mismo pasillo, pero ids de producto diferentes. \n",
    "- Una inspección al pasillo y departamento revela que son categorias para productos faltantes.\n",
    "- Tratamos los datos cambiando dichos datos nulos a \"unknown\".\n"
   ]
  },
  {
   "cell_type": "markdown",
   "id": "7eb45c86",
   "metadata": {
    "id": "7eb45c86"
   },
   "source": [
    "### `orders` data frame"
   ]
  },
  {
   "cell_type": "code",
   "execution_count": 30,
   "id": "93e41d96",
   "metadata": {
    "id": "93e41d96"
   },
   "outputs": [
    {
     "name": "stdout",
     "output_type": "stream",
     "text": [
      "        order_id  user_id  order_number  order_dow  order_hour_of_day  \\\n",
      "28        133707   182261             1          3                 10   \n",
      "96        787445    25685             1          6                 18   \n",
      "100       294410   111449             1          0                 19   \n",
      "103      2869915   123958             1          4                 16   \n",
      "104      2521921    42286             1          3                 18   \n",
      "...          ...      ...           ...        ...                ...   \n",
      "478895   2589657   205028             1          0                 16   \n",
      "478896   2222353   141211             1          2                 13   \n",
      "478922   2272807   204154             1          1                 15   \n",
      "478926   2499542    68810             1          4                 19   \n",
      "478945   1387033    22496             1          5                 14   \n",
      "\n",
      "        days_since_prior_order  \n",
      "28                         NaN  \n",
      "96                         NaN  \n",
      "100                        NaN  \n",
      "103                        NaN  \n",
      "104                        NaN  \n",
      "...                        ...  \n",
      "478895                     NaN  \n",
      "478896                     NaN  \n",
      "478922                     NaN  \n",
      "478926                     NaN  \n",
      "478945                     NaN  \n",
      "\n",
      "[28817 rows x 6 columns]\n"
     ]
    }
   ],
   "source": [
    "# Encuentra los valores ausentes\n",
    "print(df_orders[df_orders[\"days_since_prior_order\"].isna()])"
   ]
  },
  {
   "cell_type": "code",
   "execution_count": 31,
   "id": "166e5a86",
   "metadata": {
    "id": "166e5a86"
   },
   "outputs": [
    {
     "name": "stdout",
     "output_type": "stream",
     "text": [
      "order_number\n",
      "1    28817\n",
      "Name: order_number, dtype: int64\n"
     ]
    }
   ],
   "source": [
    "# ¿Hay algún valor ausente que no sea el primer pedido del cliente?\n",
    "print(df_orders[df_orders[\"days_since_prior_order\"].isna()].groupby(\"order_number\")[\"order_number\"].count())\n",
    "#print(df_orders[df_orders[\"days_since_prior_order\"].isna()][\"order_number\"].value_counts(dropna=False)) #Forma alternativa\n",
    "\n",
    "df_orders[\"days_since_prior_order\"]=df_orders[\"days_since_prior_order\"].replace(np.nan,-1)"
   ]
  },
  {
   "cell_type": "markdown",
   "id": "4e23d089",
   "metadata": {
    "id": "4e23d089"
   },
   "source": [
    "Describe brevemente tus hallazgos y lo que hiciste con ellos.\n",
    "\n",
    "- Todos los valores nulos vienen de primeros pedidos, por lo que cambie los datos nulos a -1."
   ]
  },
  {
   "cell_type": "markdown",
   "id": "69dc9ca4",
   "metadata": {
    "id": "69dc9ca4"
   },
   "source": [
    "### `order_products` data frame"
   ]
  },
  {
   "cell_type": "code",
   "execution_count": 32,
   "id": "b8240253",
   "metadata": {
    "id": "b8240253"
   },
   "outputs": [
    {
     "name": "stdout",
     "output_type": "stream",
     "text": [
      "         order_id  product_id  add_to_cart_order  reordered\n",
      "737       2449164        5068                NaN          0\n",
      "9926      1968313       43867                NaN          0\n",
      "14394     2926893       11688                NaN          0\n",
      "16418     1717990        4142                NaN          0\n",
      "30114     1959075       42828                NaN          1\n",
      "...           ...         ...                ...        ...\n",
      "4505662   1800005        7411                NaN          0\n",
      "4511400   1633337         260                NaN          0\n",
      "4517562    404157        9517                NaN          0\n",
      "4534112   1673227       17835                NaN          0\n",
      "4535739   1832957       17949                NaN          1\n",
      "\n",
      "[836 rows x 4 columns]\n"
     ]
    }
   ],
   "source": [
    "# Encuentra los valores ausentes\n",
    "order_pro_nan=df_order_products[\"add_to_cart_order\"].isna()\n",
    "print(df_order_products[order_pro_nan])\n",
    "\n"
   ]
  },
  {
   "cell_type": "code",
   "execution_count": 33,
   "id": "9a78e5ee",
   "metadata": {
    "id": "9a78e5ee",
    "scrolled": true
   },
   "outputs": [
    {
     "name": "stdout",
     "output_type": "stream",
     "text": [
      "valor maximo de la columna \"add_to_cart_order\": 64.0\n",
      "valor minimo de la columna \"add_to_cart_order\": 1.0\n"
     ]
    }
   ],
   "source": [
    "# ¿Cuáles son los valores mínimos y máximos en esta columna?\n",
    "print('valor maximo de la columna \"add_to_cart_order\":',df_order_products[\"add_to_cart_order\"].max())\n",
    "print('valor minimo de la columna \"add_to_cart_order\":',df_order_products[\"add_to_cart_order\"].min())\n"
   ]
  },
  {
   "cell_type": "markdown",
   "id": "-Z2Ja215jW78",
   "metadata": {
    "id": "-Z2Ja215jW78"
   },
   "source": [
    "Describe brevemente cuáles son tus hallazgos.\n",
    "\n",
    "La columna contiene valores hasta \"64\" sin razon aparente.\n",
    "\n",
    "\n"
   ]
  },
  {
   "cell_type": "code",
   "execution_count": 34,
   "id": "ab9d0c2b",
   "metadata": {
    "id": "ab9d0c2b"
   },
   "outputs": [
    {
     "name": "stdout",
     "output_type": "stream",
     "text": [
      "737        2449164\n",
      "9926       1968313\n",
      "14394      2926893\n",
      "16418      1717990\n",
      "30114      1959075\n",
      "            ...   \n",
      "4505662    1800005\n",
      "4511400    1633337\n",
      "4517562     404157\n",
      "4534112    1673227\n",
      "4535739    1832957\n",
      "Name: order_id, Length: 836, dtype: int64\n"
     ]
    }
   ],
   "source": [
    "# Guarda todas las IDs de pedidos que tengan un valor ausente en 'add_to_cart_order'\n",
    "ID_con_nan=df_order_products[order_pro_nan][\"order_id\"]\n",
    "print(ID_con_nan)"
   ]
  },
  {
   "cell_type": "code",
   "execution_count": 35,
   "id": "54c31695",
   "metadata": {
    "id": "54c31695"
   },
   "outputs": [
    {
     "name": "stdout",
     "output_type": "stream",
     "text": [
      "La cantidad de items correctamente registrados por orden es: \n",
      " 1968313    64\n",
      "1888628    64\n",
      "1713430    64\n",
      "9310       64\n",
      "2997021    64\n",
      "           ..\n",
      "1648217    64\n",
      "1021563    64\n",
      "1386261    64\n",
      "102236     64\n",
      "1832957    64\n",
      "Name: order_id, Length: 70, dtype: int64\n",
      "--------------------------------------------\n",
      "El registro minimo de items en un pedido que tiene un dato nulo es:  64\n",
      "--------------------------------------------\n",
      "La cantidad de registros nulos en cada orden es: \n",
      " 61355      63\n",
      "3308010    51\n",
      "2136777    44\n",
      "171934     40\n",
      "1959075    34\n",
      "           ..\n",
      "2652650     1\n",
      "2729254     1\n",
      "2621907     1\n",
      "888470      1\n",
      "1677118     1\n",
      "Name: order_id, Length: 70, dtype: int64\n"
     ]
    }
   ],
   "source": [
    "# ¿Todos los pedidos con valores ausentes tienen más de 64 productos? \n",
    "# Agrupa todos los pedidos con datos ausentes por su ID de pedido.\n",
    "group=df_order_products[order_pro_nan].groupby(\"order_id\")\n",
    "# Cuenta el número de 'product_id' en cada pedido y revisa el valor mínimo del conteo.\n",
    "DF1=df_order_products[~df_order_products[\"add_to_cart_order\"].isna() & df_order_products[\"order_id\"].isin(ID_con_nan)]\n",
    "print(\"La cantidad de items correctamente registrados por orden es: \\n\", DF1[\"order_id\"].value_counts())\n",
    "print(\"--------------------------------------------\")\n",
    "print(\"El registro minimo de items en un pedido que tiene un dato nulo es: \", DF1[\"order_id\"].value_counts().min())\n",
    "\n",
    "print(\"--------------------------------------------\")\n",
    "DF2=df_order_products[df_order_products[\"add_to_cart_order\"].isna()]\n",
    "\n",
    "print(\"La cantidad de registros nulos en cada orden es: \\n\",DF2[\"order_id\"].value_counts())\n",
    "\n",
    "\n",
    "#df_order_products[df_order_products[\"order_id\"]==9310].count()"
   ]
  },
  {
   "cell_type": "markdown",
   "id": "p9V6pddtjglj",
   "metadata": {
    "id": "p9V6pddtjglj"
   },
   "source": [
    "Describe brevemente cuáles son tus hallazgos.\n",
    "\n",
    "- Solo las ordenes con mas de 64 items tienen registros nulos, esto parece indicar que a partir del sexagesimo quinto item agregado a una orden, el registro se hace como un valor nulo. Por lo tanto tenemos ordenes de hasta 127 items."
   ]
  },
  {
   "cell_type": "code",
   "execution_count": 36,
   "id": "7a987d08",
   "metadata": {
    "id": "7a987d08"
   },
   "outputs": [
    {
     "name": "stdout",
     "output_type": "stream",
     "text": [
      "El numero de valores nulos ahora es:  0\n"
     ]
    }
   ],
   "source": [
    "# Remplaza los valores ausentes en la columna 'add_to_cart? con 999 y convierte la columna al tipo entero.\n",
    "df_order_products=df_order_products.fillna({\"add_to_cart_order\":999})\n",
    "\n",
    "df_order_products.astype({'add_to_cart_order': 'int'})\n",
    "\n",
    "#print(df_order_products)\n",
    "print(\"El numero de valores nulos ahora es: \",df_order_products[\"add_to_cart_order\"].isna().sum())"
   ]
  },
  {
   "cell_type": "markdown",
   "id": "fea4bcc7",
   "metadata": {
    "id": "fea4bcc7"
   },
   "source": [
    "Describe brevemente tus hallazgos y lo que hiciste con ellos.\n",
    "\n",
    "- Pareciera que los valores nulos de \"add_to_cart_order\" son valores superiores a 64, como si originalmente el registro  se compusiera de 6 bits, por lo que todo valor superior no pudiera ser almacenado. \n",
    "- Como no podemos rescatar el orden en el que los items fueron agregados se re etiquetaron con el valor \"999\", asignandolos como los \"ultimos en ser agregados\" pero evitando eliminarlos de los dataframes."
   ]
  },
  {
   "cell_type": "markdown",
   "id": "ec1db923",
   "metadata": {},
   "source": [
    "<div class=\"alert alert-block alert-success\">\n",
    "<b>Comentario del revisor</b> <a class=“tocSkip”></a>\n",
    "¡Muy bien! 👏👏 Los cálculos de esta sección están correctos y eso es un gran logro. Sigue así y verás cómo poco a poco te irás convirtiendo en un experto en esta área. 💪💻</div>"
   ]
  },
  {
   "cell_type": "markdown",
   "id": "RnplPFY1gSrb",
   "metadata": {
    "id": "RnplPFY1gSrb"
   },
   "source": [
    "## Conclusiones\n",
    "\n",
    "Escribe aquí tus conclusiones intermedias sobre el Paso 2. Preprocesamiento de los datos\n",
    "\n",
    "\n",
    "- La empresa debe buscar darle uniformidad a los nombres de productos, departamentos y pasillos; decidir entre mayusculas o minusculas.\n",
    "\n",
    "- Se debe mejorar el sistema de adquisicion de registros en horas pico, es decir los miercoles a las 2pm.\n",
    "- La información de la empresa de pasillos y departamentos esta bien estructurada.\n",
    "- Se debe verificar el inventario de productos, para evitar tener productos sin nombre en los registros.\n",
    "- Se debe automatizar que los primeros pedidos no generen un dato nulo en la entrada \"days_since_prior_order\".\n",
    "- Se debe aumentar el tamaño del registro \"add_to_cart_order\" para que pueda almacenara numeros mayores a 64, se recomienda ampliar a 8 bits para almacenar hasta 256 entradas.\n",
    "\n",
    "\n",
    "\n"
   ]
  },
  {
   "cell_type": "markdown",
   "id": "99a1a51f",
   "metadata": {},
   "source": [
    "<div class=\"alert alert-block alert-success\">\n",
    "<b>Comentario del revisor</b> <a class=“tocSkip”></a>\n",
    "¡Felicitaciones por incluir conclusiones intermedias en su proyecto! Esto es una práctica excelente ya que ayuda a comprender mejor los datos y a tomar decisiones informadas en la siguiente etapa del análisis. Continúa haciendo esto en futuros proyectos.</div>"
   ]
  },
  {
   "cell_type": "markdown",
   "id": "UjrOIwTcz3ri",
   "metadata": {
    "id": "UjrOIwTcz3ri"
   },
   "source": [
    "# Paso 3. Análisis de los datos\n",
    "\n",
    "Una vez los datos estén procesados y listos, haz el siguiente análisis:"
   ]
  },
  {
   "cell_type": "markdown",
   "id": "turkish-kidney",
   "metadata": {
    "id": "turkish-kidney"
   },
   "source": [
    "# [A] Fácil (deben completarse todos para aprobar)\n",
    "\n",
    "1. Verifica que los valores en las columnas `'order_hour_of_day'` y `'order_dow'` en la tabla orders sean razonables (es decir, `'order_hour_of_day'` oscile entre 0 y 23 y `'order_dow'` oscile entre 0 y 6).\n",
    "2. Crea un gráfico que muestre el número de personas que hacen pedidos dependiendo de la hora del día.\n",
    "3. Crea un gráfico que muestre qué día de la semana la gente hace sus compras.\n",
    "4. Crea un gráfico que muestre el tiempo que la gente espera a hacer su siguiente pedido, y comenta sobre los valores mínimos y máximos."
   ]
  },
  {
   "cell_type": "markdown",
   "id": "short-capability",
   "metadata": {
    "id": "short-capability"
   },
   "source": [
    "### [A1] Verifica que los valores sean sensibles"
   ]
  },
  {
   "cell_type": "code",
   "execution_count": 37,
   "id": "growing-fruit",
   "metadata": {
    "id": "growing-fruit"
   },
   "outputs": [
    {
     "data": {
      "text/plain": [
       "count    478952.000000\n",
       "mean         13.447034\n",
       "std           4.224567\n",
       "min           0.000000\n",
       "25%          10.000000\n",
       "50%          13.000000\n",
       "75%          16.000000\n",
       "max          23.000000\n",
       "Name: order_hour_of_day, dtype: float64"
      ]
     },
     "execution_count": 37,
     "metadata": {},
     "output_type": "execute_result"
    }
   ],
   "source": [
    "#No reconozco el termino \"sensibles\" para los datos, empezare mostrando que son razonables\n",
    "df_orders['order_hour_of_day'].describe()"
   ]
  },
  {
   "cell_type": "code",
   "execution_count": 38,
   "id": "accessory-malaysia",
   "metadata": {
    "id": "accessory-malaysia"
   },
   "outputs": [
    {
     "data": {
      "text/plain": [
       "count    478952.000000\n",
       "mean          2.775051\n",
       "std           2.045901\n",
       "min           0.000000\n",
       "25%           1.000000\n",
       "50%           3.000000\n",
       "75%           5.000000\n",
       "max           6.000000\n",
       "Name: order_dow, dtype: float64"
      ]
     },
     "execution_count": 38,
     "metadata": {},
     "output_type": "execute_result"
    }
   ],
   "source": [
    "df_orders['order_dow'].describe()"
   ]
  },
  {
   "cell_type": "markdown",
   "id": "hmR2GNQ6lCsX",
   "metadata": {
    "id": "hmR2GNQ6lCsX"
   },
   "source": [
    "Escribe aquí tus conclusiones\n",
    "\n",
    "- Ambas entradas estan en un rango razonable, donde 0=domingo y 6=sabado"
   ]
  },
  {
   "cell_type": "markdown",
   "id": "a6743a70",
   "metadata": {
    "id": "a6743a70"
   },
   "source": [
    "### [A2] Para cada hora del día, ¿cuántas personas hacen órdenes?"
   ]
  },
  {
   "cell_type": "code",
   "execution_count": 39,
   "id": "a36cca27",
   "metadata": {
    "id": "a36cca27"
   },
   "outputs": [
    {
     "name": "stdout",
     "output_type": "stream",
     "text": [
      "order_hour_of_day\n",
      "0      3180\n",
      "1      1763\n",
      "2       989\n",
      "3       770\n",
      "4       765\n",
      "5      1371\n",
      "6      4215\n",
      "7     13043\n",
      "8     25024\n",
      "9     35896\n",
      "10    40578\n",
      "11    40032\n",
      "12    38034\n",
      "13    39007\n",
      "14    39631\n",
      "15    39789\n",
      "16    38112\n",
      "17    31930\n",
      "18    25510\n",
      "19    19547\n",
      "20    14624\n",
      "21    11019\n",
      "22     8512\n",
      "23     5611\n",
      "Name: order_id, dtype: int64\n"
     ]
    },
    {
     "data": {
      "image/png": "[encoded data removed]",
      "text/plain": [
       "<Figure size 432x288 with 1 Axes>"
      ]
     },
     "metadata": {
      "needs_background": "light"
     },
     "output_type": "display_data"
    },
    {
     "data": {
      "image/png": "[encoded data removed]",
      "text/plain": [
       "<Figure size 432x288 with 1 Axes>"
      ]
     },
     "metadata": {
      "needs_background": "light"
     },
     "output_type": "display_data"
    }
   ],
   "source": [
    "print(df_orders.groupby(\"order_hour_of_day\")[\"order_id\"].count())\n",
    "\n",
    "df_orders[\"order_hour_of_day\"].plot( # escribe tu código aquí\n",
    "    kind=\"hist\",\n",
    "    bins=24,\n",
    "    title=\"pedidos por hora\",\n",
    "    ylabel=\"Frequency\"\n",
    ")\n",
    "plt.show()\n",
    "df_orders[\"order_dow\"].plot( # escribe tu código aquí\n",
    "    kind=\"hist\",\n",
    "    bins=7,\n",
    "    title=\"pedidos por dia\",\n",
    "    ylabel=\"Frequency\",\n",
    "    xlabel=\"Dia de la semana\"\n",
    ")\n",
    "plt.show()"
   ]
  },
  {
   "cell_type": "markdown",
   "id": "11270eed",
   "metadata": {
    "id": "11270eed"
   },
   "source": [
    "Escribe aquí tus conclusiones\n",
    "\n",
    "- Podemos ver dos claros picos para las horas del desayuno y la comida, alrededor de las 10am  y 3pm."
   ]
  },
  {
   "cell_type": "markdown",
   "id": "documented-command",
   "metadata": {
    "id": "documented-command"
   },
   "source": [
    "### [A3] ¿Qué día de la semana compran víveres las personas?"
   ]
  },
  {
   "cell_type": "markdown",
   "id": "a20dadb8",
   "metadata": {
    "id": "chief-digit"
   },
   "source": [
    "<div class=\"alert alert-block alert-success\">\n",
    "<b>Comentario del revisor</b> <a class=“tocSkip”></a>\n",
    "Buen intuiciön con el gra2fico, es bastante correcto. Te podría beneficiar agregar lo siguiente para poner labels sobre los días.</div>\n",
    "\n",
    "<code>print(df_orders.groupby(\"order_dow\")[\"order_id\"].count())\n",
    "df_orders[\"order_dow\"].plot( # escribe tu código aquí\n",
    "    kind=\"hist\",\n",
    "    bins=7,\n",
    "    title=\"pedidos por dia\",\n",
    "    ylabel=\"Frequency\",\n",
    "    xlabel=\"Dia de la semana\"\n",
    ")\n",
    "plt.show()</code>\n"
   ]
  },
  {
   "cell_type": "code",
   "execution_count": 41,
   "id": "178d5de2",
   "metadata": {},
   "outputs": [
    {
     "ename": "NameError",
     "evalue": "name 'orders' is not defined",
     "output_type": "error",
     "traceback": [
      "\u001b[0;31m---------------------------------------------------------------------------\u001b[0m",
      "\u001b[0;31mNameError\u001b[0m                                 Traceback (most recent call last)",
      "\u001b[0;32m/tmp/ipykernel_311/429619715.py\u001b[0m in \u001b[0;36m<module>\u001b[0;34m\u001b[0m\n\u001b[1;32m      1\u001b[0m \u001b[0mday_number\u001b[0m \u001b[0;34m=\u001b[0m \u001b[0;34m{\u001b[0m\u001b[0;36m0\u001b[0m\u001b[0;34m:\u001b[0m \u001b[0;34m'Domingo'\u001b[0m\u001b[0;34m,\u001b[0m \u001b[0;36m1\u001b[0m\u001b[0;34m:\u001b[0m \u001b[0;34m'Lunes'\u001b[0m\u001b[0;34m,\u001b[0m \u001b[0;36m2\u001b[0m\u001b[0;34m:\u001b[0m \u001b[0;34m'Martes'\u001b[0m\u001b[0;34m,\u001b[0m \u001b[0;36m3\u001b[0m\u001b[0;34m:\u001b[0m \u001b[0;34m'Miércoles'\u001b[0m\u001b[0;34m,\u001b[0m \u001b[0;36m4\u001b[0m\u001b[0;34m:\u001b[0m \u001b[0;34m'Jueves'\u001b[0m\u001b[0;34m,\u001b[0m \u001b[0;36m5\u001b[0m\u001b[0;34m:\u001b[0m \u001b[0;34m'Viernes'\u001b[0m\u001b[0;34m,\u001b[0m \u001b[0;36m6\u001b[0m\u001b[0;34m:\u001b[0m \u001b[0;34m'Sábado'\u001b[0m\u001b[0;34m}\u001b[0m\u001b[0;34m\u001b[0m\u001b[0;34m\u001b[0m\u001b[0m\n\u001b[1;32m      2\u001b[0m \u001b[0;34m\u001b[0m\u001b[0m\n\u001b[0;32m----> 3\u001b[0;31m \u001b[0morder_day\u001b[0m \u001b[0;34m=\u001b[0m \u001b[0morders\u001b[0m\u001b[0;34m[\u001b[0m\u001b[0;34m'order_dow'\u001b[0m\u001b[0;34m]\u001b[0m\u001b[0;34m.\u001b[0m\u001b[0mvalue_counts\u001b[0m\u001b[0;34m(\u001b[0m\u001b[0;34m)\u001b[0m\u001b[0;34m.\u001b[0m\u001b[0msort_index\u001b[0m\u001b[0;34m(\u001b[0m\u001b[0;34m)\u001b[0m\u001b[0;34m\u001b[0m\u001b[0;34m\u001b[0m\u001b[0m\n\u001b[0m\u001b[1;32m      4\u001b[0m \u001b[0;34m\u001b[0m\u001b[0m\n\u001b[1;32m      5\u001b[0m \u001b[0;31m# Crear el gráfico de barras\u001b[0m\u001b[0;34m\u001b[0m\u001b[0;34m\u001b[0m\u001b[0;34m\u001b[0m\u001b[0m\n",
      "\u001b[0;31mNameError\u001b[0m: name 'orders' is not defined"
     ]
    }
   ],
   "source": [
    "\n",
    "day_number = {0: 'Domingo', 1: 'Lunes', 2: 'Martes', 3: 'Miércoles', 4: 'Jueves', 5: 'Viernes', 6: 'Sábado'}\n",
    "\n",
    "order_day = orders['order_dow'].value_counts().sort_index()\n",
    "\n",
    "# Crear el gráfico de barras\n",
    "plt.figure(figsize=[12, 8])\n",
    "plt.bar(order_day.index, order_day, color='lightgreen')"
   ]
  },
  {
   "cell_type": "markdown",
   "id": "dominant-lightning",
   "metadata": {
    "id": "dominant-lightning"
   },
   "source": [
    "Escribe aquí tus conclusiones\n",
    "\n",
    "- La gente compra viveres todos los dias de forma significativa, pero especialmente los domingos y lunes."
   ]
  },
  {
   "cell_type": "markdown",
   "id": "cutting-concert",
   "metadata": {
    "id": "cutting-concert"
   },
   "source": [
    "### [A4] ¿Cuánto tiempo esperan las personas hasta hacer otro pedido? Comenta sobre los valores mínimos y máximos."
   ]
  },
  {
   "cell_type": "code",
   "execution_count": null,
   "id": "c231f523",
   "metadata": {
    "id": "c231f523",
    "scrolled": false
   },
   "outputs": [],
   "source": [
    "print(df_orders.groupby(\"days_since_prior_order\")[\"order_id\"].count())\n",
    "print(df_orders[\"days_since_prior_order\"].describe())\n",
    "df_orders[\"days_since_prior_order\"].plot( # escribe tu código aquí\n",
    "    kind=\"hist\",\n",
    "    bins=31,\n",
    "    title=\"dias para repetir pedido\",\n",
    "    ylabel=\"Frequency\",\n",
    "    xlabel=\"Dia de la semana\"\n",
    ")\n",
    "plt.show()"
   ]
  },
  {
   "cell_type": "markdown",
   "id": "discrete-vertex",
   "metadata": {
    "id": "discrete-vertex"
   },
   "source": [
    "Escribe aquí tus conclusiones\n",
    "\n",
    "\n",
    "Tenemos que resaltar dos eventos particulares, los conteos referentes a \"-1\" son de primeros pedidos y todos aquellos conteos referentes a \"30\" dias son de 30 dias o mas.\n",
    "La mediana es de 7 dias."
   ]
  },
  {
   "cell_type": "markdown",
   "id": "9dbdc1b2",
   "metadata": {},
   "source": [
    "<div class=\"alert alert-block alert-success\">\n",
    "<b>Comentario del revisor</b> <a class=“tocSkip”></a>\n",
    "¡Muy bien! 👏👏 Los cálculos de la sección A son adecuados. Has incluido además gráficos de buen tamaño y que son claros.💻</div>"
   ]
  },
  {
   "cell_type": "markdown",
   "id": "tight-staff",
   "metadata": {
    "id": "tight-staff"
   },
   "source": [
    "# [B] Intermedio (deben completarse todos para aprobar)\n",
    "\n",
    "1. ¿Existe alguna diferencia entre las distribuciones `'order_hour_of_day'` de los miércoles y los sábados? Traza gráficos de barra de `'order_hour_of_day'` para ambos días en la misma figura y describe las diferencias que observes.\n",
    "2. Grafica la distribución para el número de órdenes que hacen los clientes (es decir, cuántos clientes hicieron solo 1 pedido, cuántos hicieron 2, cuántos 3, y así sucesivamente...).\n",
    "3. ¿Cuáles son los 20 principales productos que se piden con más frecuencia (muestra su identificación y nombre)?"
   ]
  },
  {
   "cell_type": "markdown",
   "id": "packed-classic",
   "metadata": {
    "id": "packed-classic"
   },
   "source": [
    "### [B1] Diferencia entre miércoles y sábados para  `'order_hour_of_day'`. Traza gráficos de barra para los dos días y describe las diferencias que veas."
   ]
  },
  {
   "cell_type": "code",
   "execution_count": null,
   "id": "d89b8403",
   "metadata": {
    "id": "d89b8403"
   },
   "outputs": [],
   "source": [
    "df_orders_wend=df_orders[df_orders[\"order_dow\"]==4]\n",
    "df_orders_sat=df_orders[df_orders[\"order_dow\"]==6]"
   ]
  },
  {
   "cell_type": "code",
   "execution_count": null,
   "id": "94e54e8a",
   "metadata": {
    "id": "94e54e8a"
   },
   "outputs": [],
   "source": [
    "df_orders_sat[\"order_hour_of_day\"].plot( # escribe tu código aquí\n",
    "    kind=\"hist\",\n",
    "    bins=24,\n",
    "    title=\"pedidos de dos dias\",\n",
    "    ylabel=\"Frequency\"\n",
    ")\n",
    "    #alpha=0.7\n",
    "df_orders_wend['order_hour_of_day'].plot( # escribe tu código aquí\n",
    "    kind=\"hist\",\n",
    "    bins=20,\n",
    "    alpha=0.5\n",
    ")\n",
    "plt.legend([\"Sabado\",\"Miercoles\"])\n",
    "plt.show()"
   ]
  },
  {
   "cell_type": "markdown",
   "id": "charitable-congo",
   "metadata": {
    "id": "charitable-congo"
   },
   "source": [
    "Escribe aquí tus conclusiones\n",
    "\n",
    "Existen dos diferencias significativas:\n",
    "- El inicio y fin del dia miercoles es mas activo.\n",
    "- Los miecoles a las 2 hay una fuerte alza de pedidos, probalemente esto sea lo que satura el sistema provocando duplicados."
   ]
  },
  {
   "cell_type": "markdown",
   "id": "e3891143",
   "metadata": {
    "id": "e3891143"
   },
   "source": [
    "### [B2] ¿Cuál es la distribución para el número de pedidos por cliente?"
   ]
  },
  {
   "cell_type": "code",
   "execution_count": null,
   "id": "d8c26c23",
   "metadata": {
    "id": "d8c26c23"
   },
   "outputs": [],
   "source": [
    "\n",
    "df_orders[\"order_number\"].plot(\n",
    "    kind=\"hist\",\n",
    "    bins=20,\n",
    "    title=\"Actividad de clientes\",\n",
    "    ylabel=\"Cantidad de clientes\"\n",
    "\n",
    ")\n",
    "print(df_orders[\"order_number\"].describe())\n"
   ]
  },
  {
   "cell_type": "code",
   "execution_count": null,
   "id": "00e69a66",
   "metadata": {
    "id": "00e69a66"
   },
   "outputs": [],
   "source": []
  },
  {
   "cell_type": "markdown",
   "id": "d2eff7d5",
   "metadata": {
    "id": "d2eff7d5"
   },
   "source": [
    "Escribe aquí tus conclusiones\n",
    "\n",
    "- La mayor parte de los clientes tiene pocos pedidos, la mediana es de 11.\n"
   ]
  },
  {
   "cell_type": "markdown",
   "id": "54a0319c",
   "metadata": {
    "id": "54a0319c"
   },
   "source": [
    "### [B3] ¿Cuáles son los 20 productos más populares (muestra su ID y nombre)?"
   ]
  },
  {
   "cell_type": "code",
   "execution_count": null,
   "id": "exterior-arizona",
   "metadata": {
    "id": "exterior-arizona",
    "scrolled": false
   },
   "outputs": [],
   "source": [
    "#print(df_order_products)\n",
    "\n",
    "top_products_ids=df_order_products[\"product_id\"].value_counts().head(20)\n",
    "#print(top_products_ids)\n",
    "#Filtramos los 20 valores mas comunes de la lista de productos ordenados\n",
    "\n"
   ]
  },
  {
   "cell_type": "code",
   "execution_count": null,
   "id": "universal-facial",
   "metadata": {
    "id": "universal-facial"
   },
   "outputs": [],
   "source": [
    "top_products_names=df_products[df_products[\"product_id\"].isin(top_products_ids.index)][{\"product_id\",\"product_name\"}]\n",
    "#print(top_products_names)\n",
    "\n",
    "#Filtramos los nombres de los productos con base a si estan en los productos mas vendidos.\n"
   ]
  },
  {
   "cell_type": "code",
   "execution_count": null,
   "id": "bbcdd20b",
   "metadata": {
    "id": "bbcdd20b"
   },
   "outputs": [],
   "source": [
    "top_products=(top_products_ids.to_frame().merge(top_products_names,\n",
    "                                               how=\"left\",\n",
    "                                               left_index=True,\n",
    "                                               right_on=\"product_id\"\n",
    "                      )\n",
    "             )[{\"product_id\",\"product_name\"}].reset_index(drop=True)\n",
    "print(top_products)\n",
    "\n",
    "#Juntamos el DF de los ids de los productos mas vendidos con el de los nombres usando \"merge\" y a través del product_id, en el\n",
    "#en el primer DF es el indice pues asi lo genera \"value_counts()\" y en el segundo es la fila homonima."
   ]
  },
  {
   "cell_type": "markdown",
   "id": "7df00f47",
   "metadata": {
    "id": "7df00f47"
   },
   "source": [
    "Escribe aquí tus conclusiones\n",
    "\n",
    "\n",
    "- Una vez limpias las tablas es fácil obtener el top de productos. \n",
    "- Esta información es altamente importante para marketing.\n",
    "- Siendo los más vendidos, vale la pena hacer ofertas para atraer clientes."
   ]
  },
  {
   "cell_type": "markdown",
   "id": "079b93ec",
   "metadata": {},
   "source": [
    "<div class=\"alert alert-block alert-success\">\n",
    "<b>Comentario del revisor</b> <a class=“tocSkip”></a>\n",
    "¡Gran Trabajo! 👏👏 Las respuestas son correctas. HAs hecho buen uso de la función group by, tienes tamaños, colores y ejes bien empleados en las gráficas. Las conclusiones son suficientes. Unicamente ten cuidado con markdown pues al dejar un indent se interpreta algo raro el texto. 💪💻</div>"
   ]
  },
  {
   "cell_type": "markdown",
   "id": "gross-theme",
   "metadata": {
    "id": "gross-theme"
   },
   "source": [
    "# [C] Difícil (deben completarse todos para aprobar)\n",
    "\n",
    "1. ¿Cuántos artículos suelen comprar las personas en un pedido? ¿Cómo es la distribución?\n",
    "2. ¿Cuáles son los 20 principales artículos que vuelven a pedirse con mayor frecuencia (muestra sus nombres e IDs de los productos)?\n",
    "3. Para cada producto, ¿cuál es la tasa de repetición del pedido (número de repeticiones de pedido/total de pedidos?\n",
    "4. Para cada cliente, ¿qué proporción de los productos que pidió ya los había pedido? Calcula la tasa de repetición de pedido para cada usuario en lugar de para cada producto.\n",
    "5. ¿Cuáles son los 20 principales artículos que la gente pone primero en sus carritos (muestra las IDs de los productos, sus nombres, y el número de veces en que fueron el primer artículo en añadirse al carrito)?"
   ]
  },
  {
   "cell_type": "markdown",
   "id": "romantic-deposit",
   "metadata": {
    "id": "romantic-deposit"
   },
   "source": [
    "### [C1] ¿Cuántos artículos compran normalmente las personas en un pedido? ¿Cómo es la distribución?"
   ]
  },
  {
   "cell_type": "code",
   "execution_count": null,
   "id": "virtual-punch",
   "metadata": {
    "id": "virtual-punch"
   },
   "outputs": [],
   "source": [
    "amount_pro=df_order_products.groupby(\"order_id\")[\"product_id\"].count()\n",
    "print(amount_pro)\n",
    "amount_pro.describe()"
   ]
  },
  {
   "cell_type": "code",
   "execution_count": null,
   "id": "sensitive-breathing",
   "metadata": {
    "id": "sensitive-breathing"
   },
   "outputs": [],
   "source": [
    "print(amount_pro.sort_values(ascending=True).describe())\n",
    "(amount_pro.sort_values(ascending=True)).plot(\n",
    "    kind=\"hist\",\n",
    "    bins=40,\n",
    "    title=\"productos por envio\",\n",
    "    ylabel=\"Cantidad de clientes\"\n",
    "\n",
    ")\n",
    "plt.show() "
   ]
  },
  {
   "cell_type": "code",
   "execution_count": null,
   "id": "completed-frank",
   "metadata": {
    "id": "completed-frank"
   },
   "outputs": [],
   "source": []
  },
  {
   "cell_type": "markdown",
   "id": "designed-mortality",
   "metadata": {
    "id": "designed-mortality"
   },
   "source": [
    "Escribe aquí tus conclusiones\n",
    "- La mayoria de los clientes piden ordenes de pocos items, 8 como mediana.\n",
    "- Solo un 25% de los clientes piden mas de 14 items."
   ]
  },
  {
   "cell_type": "markdown",
   "id": "5e6b5537",
   "metadata": {
    "id": "5e6b5537"
   },
   "source": [
    "### [C2] ¿Cuáles son los 20 principales artículos que vuelven a pedirse con mayor frecuencia (muestra sus nombres e IDs de los productos)?"
   ]
  },
  {
   "cell_type": "code",
   "execution_count": null,
   "id": "9374e55a",
   "metadata": {
    "id": "9374e55a"
   },
   "outputs": [],
   "source": [
    "top_reordered_products_ids=df_order_products[df_order_products[\"reordered\"]==1][\"product_id\"].value_counts().head(20)\n",
    "print(top_reordered_products_ids)\n",
    "#Filtramos los 20 valores mas comunes de la lista de productos ordenados que han sido reordenados."
   ]
  },
  {
   "cell_type": "code",
   "execution_count": null,
   "id": "possible-change",
   "metadata": {
    "id": "possible-change",
    "scrolled": false
   },
   "outputs": [],
   "source": [
    "top_reordered_products_names=df_products[df_products[\"product_id\"].isin(\n",
    "    top_reordered_products_ids.index)][{\"product_id\",\"product_name\"}]\n",
    "\n",
    "print(top_reordered_products_names)\n",
    "\n",
    "#Filtramos los nombres de los productos con base a si estan en los productos mas vendidos que han sido reordenados."
   ]
  },
  {
   "cell_type": "code",
   "execution_count": null,
   "id": "professional-surfing",
   "metadata": {
    "id": "professional-surfing",
    "scrolled": false
   },
   "outputs": [],
   "source": [
    "top_reordered_products=(top_reordered_products_ids.to_frame().merge(top_reordered_products_names,\n",
    "                                               how=\"left\",\n",
    "                                               left_index=True,\n",
    "                                               right_on=\"product_id\"\n",
    "                      )\n",
    "             )[{\"product_id\",\"product_name\"}].reset_index(drop=True)\n",
    "print(top_reordered_products)\n",
    "\n",
    "#Juntamos el DF de los ids de los productos mas vendidos que han sido re ordenados con el de los nombres usando \"merge\"\n",
    "# a través del product_id, en el en el primer DF es el indice pues asi lo genera \"value_counts()\"\n",
    "#y en el segundo es la fila homonima."
   ]
  },
  {
   "cell_type": "code",
   "execution_count": null,
   "id": "48dd3658",
   "metadata": {
    "id": "48dd3658"
   },
   "outputs": [],
   "source": []
  },
  {
   "cell_type": "markdown",
   "id": "80e70c74",
   "metadata": {
    "id": "80e70c74"
   },
   "source": [
    "Escribe aquí tus conclusiones\n",
    "\n",
    "- Estos articulos son de los mas importantes, pues la gente vuelve a pedirlos frecuentemente"
   ]
  },
  {
   "cell_type": "markdown",
   "id": "9d312b14",
   "metadata": {
    "id": "9d312b14"
   },
   "source": [
    "### [C3] Para cada producto, ¿cuál es la proporción de las veces que se pide y que se vuelve a pedir?"
   ]
  },
  {
   "cell_type": "code",
   "execution_count": null,
   "id": "8ae9f4b1",
   "metadata": {
    "id": "8ae9f4b1"
   },
   "outputs": [],
   "source": [
    "pro_total=df_order_products.groupby(\"product_id\")[\"reordered\"].count()\n",
    "#print(\".............\\n\",df_order_products.groupby(\"product_id\")[\"reordered\"].sum())\n",
    "pro_reordered=df_order_products[df_order_products[\"reordered\"]==1].groupby(\"product_id\")[\"reordered\"].count()\n",
    "print(pro_total)\n",
    "print(pro_reordered)\n",
    "\n",
    "#Creamos dos series, una con la suma por producto que fue ordenado y otra con la suma de cuantas veces fue reordenado.\n"
   ]
  },
  {
   "cell_type": "code",
   "execution_count": null,
   "id": "103e7fe1",
   "metadata": {
    "id": "103e7fe1",
    "scrolled": true
   },
   "outputs": [],
   "source": [
    "pro_ratio_redorder=(pro_reordered/pro_total).fillna(0)\n",
    "print(pro_ratio_redorder)\n",
    "#print(df_products)\n",
    "#creamos un pandas series con la proporción de las veces que se pide y que se \n",
    "#vuelve a pedir cada producto con base a su product_id. Llenamos los datos nulos con ceros, estos datos\n",
    "#aparecen por productos que no son reordenados."
   ]
  },
  {
   "cell_type": "code",
   "execution_count": null,
   "id": "social-individual",
   "metadata": {
    "id": "social-individual",
    "scrolled": false
   },
   "outputs": [],
   "source": [
    "ratio_reordered_products=(df_products.merge(pro_ratio_redorder.to_frame(),\n",
    "                                               how=\"left\",\n",
    "                                               right_index=True,\n",
    "                                               left_on=\"product_id\"\n",
    "                      )\n",
    "             )[{\"product_id\",\"product_name\",\"reordered\"}].fillna(0)\n",
    "print(ratio_reordered_products.head(20))\n",
    "\n",
    "print(ratio_reordered_products[\"reordered\"].describe())\n",
    "\n",
    "#Combinamos la series con el las columnas relevantes del dataframe de productos\n",
    "#y lo almacenamos en un nuevo dataframe por mostrar. llenamos los datos nulos con ceros, estos datos\n",
    "#aparecen por productos que fueron pedidos."
   ]
  },
  {
   "cell_type": "markdown",
   "id": "I10dEIAyldcO",
   "metadata": {
    "id": "I10dEIAyldcO"
   },
   "source": [
    "Escribe aquí tus conclusiones\n",
    "- Alrededor del 36% de los productos son productos que se piden de forma recurrente.\n",
    "- esta información puede ser util para campañas de marketing."
   ]
  },
  {
   "cell_type": "markdown",
   "id": "5c780695",
   "metadata": {},
   "source": [
    "<div class=\"alert alert-block alert-success\">\n",
    "<b>Comentario del revisor</b> <a class=\"tocSkip\"></a>\n",
    "Buen trabajo, la clave acá fue utilizar la columna reordered y hacer merge para obtener todos los datos. \n",
    "</div>\n"
   ]
  },
  {
   "cell_type": "markdown",
   "id": "subject-boxing",
   "metadata": {
    "id": "subject-boxing"
   },
   "source": [
    "### [C4] Para cada cliente, ¿qué proporción de sus productos ya los había pedido?"
   ]
  },
  {
   "cell_type": "code",
   "execution_count": null,
   "id": "medical-couple",
   "metadata": {
    "id": "medical-couple",
    "scrolled": false
   },
   "outputs": [],
   "source": [
    "#Necesito relacionar cada usuario con su respectivo pedido a traves de order_id\n",
    "\n",
    "user_products=df_orders[{\"order_id\",\"user_id\"}].merge(df_order_products\n",
    "                                                      [{\"order_id\",\n",
    "                                                        \"product_id\",\n",
    "                                                        \"reordered\",\n",
    "                                                        \"add_to_cart_order\"}],\n",
    "                              on=\"order_id\")\n",
    "                              \n",
    "print(user_products)\n",
    "#Creamos un dataframe con la información relevante para hacer las proporciones."
   ]
  },
  {
   "cell_type": "code",
   "execution_count": null,
   "id": "8892e4b4",
   "metadata": {
    "id": "8892e4b4"
   },
   "outputs": [],
   "source": [
    "client_total=user_products.groupby(\"user_id\")[\"reordered\"].count()\n",
    "client_reordered=user_products.groupby(\"user_id\")[\"reordered\"].sum()\n",
    "\n",
    "#print(client_total)\n",
    "#print(client_reordered)\n",
    "\n",
    "client_ratio=client_reordered/client_total\n",
    "print(client_ratio.describe())\n",
    "\n",
    "client_ratio.hist()\n",
    "#Creamos dos series, una con la suma por producto que fue ordenado y otra con la suma de cuantas veces fue reordenado.\n"
   ]
  },
  {
   "cell_type": "code",
   "execution_count": null,
   "id": "e80ec6cd",
   "metadata": {},
   "outputs": [],
   "source": [
    "(client_ratio.to_frame()).rename(\n",
    "    columns={\"reordered\":\"reorder_ratio\"})\n"
   ]
  },
  {
   "cell_type": "markdown",
   "id": "BgJSvXDsleXz",
   "metadata": {
    "id": "BgJSvXDsleXz"
   },
   "source": [
    "Escribe aquí tus conclusiones\n",
    "\n",
    "- Aproximadamente los clientes suelen llenar la mitad de su carrito con productos recurrentes.\n",
    " "
   ]
  },
  {
   "cell_type": "markdown",
   "id": "92d35137",
   "metadata": {
    "id": "92d35137"
   },
   "source": [
    "### [C5] ¿Cuáles son los 20 principales artículos que las personas ponen primero en sus carritos?"
   ]
  },
  {
   "cell_type": "code",
   "execution_count": null,
   "id": "0ae57274",
   "metadata": {
    "id": "0ae57274",
    "scrolled": true
   },
   "outputs": [],
   "source": [
    "#del daframe que relaciona cada usuario con su respectivo pedido a traves de order_id,\n",
    "#debo extraer el top 20 de articulos mas comprados que sean numero uno en ser elegidos\n",
    "\n",
    "#user_products[user_products[\"add_to_cart_order\"]==1].groupby(\"user_id\")[\"order_id\"].count()\n",
    "product_counts=(user_products.groupby(\"add_to_cart_order\")[\"product_id\"].value_counts()).to_frame().loc[1]\n",
    "product_counts"
   ]
  },
  {
   "cell_type": "code",
   "execution_count": null,
   "id": "forty-netherlands",
   "metadata": {
    "id": "forty-netherlands",
    "scrolled": false
   },
   "outputs": [],
   "source": [
    "top_reordered=df_products[{\"product_id\",\"product_name\"}].merge(product_counts,\n",
    "                                               how=\"right\",\n",
    "                                               right_index=True,\n",
    "                                               left_on=\"product_id\"\n",
    "                               )[{\"product_id\",\"product_name\"}].fillna(0).reset_index(drop=True)\n",
    "print(top_reordered.head(20))"
   ]
  },
  {
   "cell_type": "markdown",
   "id": "8ccc6967",
   "metadata": {
    "id": "08e41ec2"
   },
   "source": [
    "<div class=\"alert alert-block alert-success\">\n",
    "<b>Comentario del revisor</b> <a class=\"tocSkip\"></a>\n",
    "correcto added_to_cart_order  nos da el orden secuencial y obtuviste los resultados correctos al contar solo los 20 primeros registros de este orden respecto a la columna. \n",
    "</div>"
   ]
  },
  {
   "cell_type": "markdown",
   "id": "28ce9872",
   "metadata": {
    "id": "28ce9872"
   },
   "source": [
    "Escribe aquí tus conclusiones\n",
    "- Las bananas son de los productos mas importantes del sitio\n",
    "- Estos 20 elementos son prioritarios, pues son aquellos por los que la gente entra a hacer su compra."
   ]
  },
  {
   "cell_type": "markdown",
   "id": "uITbFCEoDosC",
   "metadata": {
    "id": "uITbFCEoDosC"
   },
   "source": [
    "### Conclusion general del proyecto:"
   ]
  },
  {
   "cell_type": "markdown",
   "id": "50ac92c1",
   "metadata": {
    "id": "Nk-4GS7mDwqY"
   },
   "source": [
    " Hay multiples factores tecnicos y de marketing rescatables de este proyecto, iniciando con factores tecnicos:\n",
    " - Es necesario mejorar el sistema de adquision de datos para pedidos de mas de 64 elementos\n",
    " - Es necesario mejorar el proceso de pedidos en horas pico, por ejemplo los miercoles a las 2pm\n",
    " - Es importante estandarizar los nombres pasillos y departamentos\n",
    " - Seria conveniente estandarizar los nombre de productos.\n",
    " - Se debe inventariar, eliminar y tratar los productos faltantes.\n",
    " - Se debe automatizar que los primeros pedidos no generen un dato nulo en la entrada \"days_since_prior_order\".\n",
    " \n",
    " En cuanto aspectos de marketing:\n",
    " - La maxima cantidad de pedidos al dia ocurre alrededor de dos horas, las 10am  y 3pm.\n",
    " - Hay mas pedidos los domingos y lunes.\n",
    " - Se puede considerar un cliente recurrente tras los 11 pedidos, pues esta sobre el 50% de usuarios y uno fiel tras los 23, arriba del 75% de usuarios.\n",
    "- El top 20 de productos (top_products), puede ser una gran herramienta para atraer clientes con ofertas.\n",
    "- La media de items por pedido es de 8, se puede hacer ofertas si se alcanza dicho numero.\n",
    "- Los articulos reordenados mas pedidos (top_reordered_products) pueden crear sustento a una base de usuarios.\n",
    "- Hay que revisar la calidad de los articulos que los clientes no vuelven a pedir. (ratio_reordered_products)\n",
    "- Hay que hacer enfasis en los principales artículos que las personas ponen primero en sus carritos, son una oportunidad de marketing.\n",
    "\n",
    " "
   ]
  },
  {
   "cell_type": "markdown",
   "id": "0189dbc9",
   "metadata": {},
   "source": [
    "<div class=\"alert alert-block alert-success\">\n",
    "<b>Comentario del revisor</b> <a class=\"tocSkip\"></a>\n",
    "\n",
    "¡Hola Omar! 😊\n",
    "\n",
    "Primero que nada, gracias por tu dedicación en este proyecto. Tu esfuerzo es evidente y se aprecia.\n",
    "\n",
    "<b>Podemos aprobar tu proyecto, pues no hay nada que corregir</b>\n",
    "\n",
    "¡Sigue así y mucho éxito en tu proyecto! 👍\n",
    "</div>\n"
   ]
  }
 ],
 "metadata": {
  "colab": {
   "provenance": []
  },
  "kernelspec": {
   "display_name": "Python 3 (ipykernel)",
   "language": "python",
   "name": "python3"
  },
  "language_info": {
   "codemirror_mode": {
    "name": "ipython",
    "version": 3
   },
   "file_extension": ".py",
   "mimetype": "text/x-python",
   "name": "python",
   "nbconvert_exporter": "python",
   "pygments_lexer": "ipython3",
   "version": "3.9.19"
  },
  "toc": {
   "base_numbering": 1,
   "nav_menu": {},
   "number_sections": true,
   "sideBar": true,
   "skip_h1_title": true,
   "title_cell": "Table of Contents",
   "title_sidebar": "Contents",
   "toc_cell": false,
   "toc_position": {
    "height": "calc(100% - 180px)",
    "left": "10px",
    "top": "150px",
    "width": "322.797px"
   },
   "toc_section_display": true,
   "toc_window_display": true
  },
  "vscode": {
   "interpreter": {
    "hash": "01a7be9ec63e704a62cefc5fe7a4756944464ee731be31632bdf42a4cb4688cf"
   }
  }
 },
 "nbformat": 4,
 "nbformat_minor": 5
}
